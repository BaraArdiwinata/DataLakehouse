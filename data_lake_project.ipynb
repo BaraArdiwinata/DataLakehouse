{
 "cells": [
  {
   "cell_type": "markdown",
   "id": "7e48f361",
   "metadata": {},
   "source": [
    "# Project Data Lake"
   ]
  },
  {
   "cell_type": "markdown",
   "id": "7fd90a6a",
   "metadata": {},
   "source": [
    "### Setup dan Konfigurasi"
   ]
  },
  {
   "cell_type": "markdown",
   "id": "bd2d5d64",
   "metadata": {},
   "source": [
    "#### Import library"
   ]
  },
  {
   "cell_type": "code",
   "execution_count": 31,
   "id": "04b020bd",
   "metadata": {},
   "outputs": [],
   "source": [
    "import pandas as pd\n",
    "from sqlalchemy import create_engine, text\n",
    "import os\n",
    "import shutil\n",
    "from datetime import date, datetime\n",
    "import matplotlib.pyplot as plt\n",
    "import seaborn as sns\n",
    "import PyPDF2\n",
    "from textblob import TextBlob\n",
    "import random"
   ]
  },
  {
   "cell_type": "markdown",
   "id": "cf1713ce",
   "metadata": {},
   "source": [
    "#### Konfigurasi Koneksi Database"
   ]
  },
  {
   "cell_type": "markdown",
   "id": "24cbb540",
   "metadata": {},
   "source": [
    "Konfigurasi koneksi ke database PostgreSQL"
   ]
  },
  {
   "cell_type": "code",
   "execution_count": 32,
   "id": "7b1d33f4",
   "metadata": {},
   "outputs": [],
   "source": [
    "db_user = 'postgres'\n",
    "db_password = 'ardiwinata230803'\n",
    "db_host = 'localhost'\n",
    "db_port = '5432'"
   ]
  },
  {
   "cell_type": "markdown",
   "id": "d809ece8",
   "metadata": {},
   "source": [
    "Koneksi ke DB Staging Area (adventureworks_st)"
   ]
  },
  {
   "cell_type": "code",
   "execution_count": 33,
   "id": "f1c17f85",
   "metadata": {},
   "outputs": [
    {
     "name": "stdout",
     "output_type": "stream",
     "text": [
      "✅ Koneksi ke database Staging Area ('adventureworks_st') berhasil!\n"
     ]
    }
   ],
   "source": [
    "db_name_st = 'adventureworks_st'\n",
    "connection_string_st = f\"postgresql+psycopg2://{db_user}:{db_password}@{db_host}:{db_port}/{db_name_st}\"\n",
    "engine_st = create_engine(connection_string_st)\n",
    "print(f\"✅ Koneksi ke database Staging Area ('{db_name_st}') berhasil!\")"
   ]
  },
  {
   "cell_type": "markdown",
   "id": "2993076b",
   "metadata": {},
   "source": [
    "Koneksi ke DB Data Warehouse (adventureworks_wh)"
   ]
  },
  {
   "cell_type": "code",
   "execution_count": 34,
   "id": "20de7aa2",
   "metadata": {},
   "outputs": [
    {
     "name": "stdout",
     "output_type": "stream",
     "text": [
      "✅ Koneksi ke database Data Warehouse ('adventureworks_wh') berhasil!\n"
     ]
    }
   ],
   "source": [
    "db_name_wh = 'adventureworks_wh'\n",
    "connection_string_wh = f\"postgresql+psycopg2://{db_user}:{db_password}@{db_host}:{db_port}/{db_name_wh}\"\n",
    "engine_wh = create_engine(connection_string_wh)\n",
    "print(f\"✅ Koneksi ke database Data Warehouse ('{db_name_wh}') berhasil!\")"
   ]
  },
  {
   "cell_type": "markdown",
   "id": "b4a7b569",
   "metadata": {},
   "source": [
    "#### Konfigurasi Path Folder"
   ]
  },
  {
   "cell_type": "code",
   "execution_count": 35,
   "id": "76a8f0b0",
   "metadata": {},
   "outputs": [
    {
     "name": "stdout",
     "output_type": "stream",
     "text": [
      "✅ Semua path folder berhasil dikonfigurasi.\n"
     ]
    }
   ],
   "source": [
    "ORGANIZED_PATH = 'data_organized'\n",
    "RAW_DATA_PATH = 'data_raw'\n",
    "OUTPUT_PATH = 'output'\n",
    "\n",
    "print(\"✅ Semua path folder berhasil dikonfigurasi.\")"
   ]
  },
  {
   "cell_type": "markdown",
   "id": "8f83b8e6",
   "metadata": {},
   "source": [
    "#### Definisi Nama Kolom untuk Data Raw"
   ]
  },
  {
   "cell_type": "markdown",
   "id": "e15b0f09",
   "metadata": {},
   "source": [
    "Ini penting untuk membaca file CSV yang tidak memiliki header"
   ]
  },
  {
   "cell_type": "code",
   "execution_count": 36,
   "id": "4bf2e217",
   "metadata": {},
   "outputs": [],
   "source": [
    "pelanggan_cols = ['id_pelanggan', 'nama_depan', 'nama_belakang', 'email', 'kota_asal']\n",
    "produk_cols = ['id_produk', 'nama_produk', 'subkategori', 'kategori', 'harga_standar', 'warna', 'lini_produk']\n",
    "penjualan_cols = ['id_order', 'id_order_detail', 'tanggal_order', 'id_pelanggan', 'id_produk', 'jumlah_barang', 'harga_satuan', 'total_harga']"
   ]
  },
  {
   "cell_type": "markdown",
   "id": "175e4ee2",
   "metadata": {},
   "source": [
    "#### Status Konfigurasi"
   ]
  },
  {
   "cell_type": "code",
   "execution_count": 37,
   "id": "8bc0b0ff",
   "metadata": {},
   "outputs": [
    {
     "name": "stdout",
     "output_type": "stream",
     "text": [
      "✅ Setup dan Konfigurasi Selesai.\n"
     ]
    }
   ],
   "source": [
    "print(\"✅ Setup dan Konfigurasi Selesai.\")"
   ]
  },
  {
   "cell_type": "markdown",
   "id": "952ec7b4",
   "metadata": {},
   "source": [
    "### Kumpulan Fungsi ETL"
   ]
  },
  {
   "cell_type": "markdown",
   "id": "0abf203b",
   "metadata": {},
   "source": [
    "Sortir file dalam folder"
   ]
  },
  {
   "cell_type": "code",
   "execution_count": 38,
   "id": "c7ea8ff1",
   "metadata": {},
   "outputs": [],
   "source": [
    "def sortir_file_mentah():\n",
    "    \"\"\"Menyalin file dari landing zone ke folder terorganisir berdasarkan tipe.\"\"\"\n",
    "    print(\"\\n--- Memulai Proses Sortir File Mentah ---\")\n",
    "    source_path = 'data_raw' # Kita anggap ini landing zone-nya\n",
    "    \n",
    "    # Membaca dari data_raw dan menyalin ke data_organized\n",
    "    for filename in os.listdir(source_path):\n",
    "        file_path = os.path.join(source_path, filename)\n",
    "        _, ext = os.path.splitext(filename)\n",
    "        ext = ext.lower()\n",
    "        \n",
    "        target_dir = None\n",
    "        if ext == '.csv': target_dir = os.path.join(ORGANIZED_PATH, 'csv')\n",
    "        elif ext == '.pdf': target_dir = os.path.join(ORGANIZED_PATH, 'pdf')\n",
    "        elif ext == '.txt': target_dir = os.path.join(ORGANIZED_PATH, 'txt')\n",
    "        \n",
    "        if target_dir:\n",
    "            os.makedirs(target_dir, exist_ok=True)\n",
    "            shutil.copy(file_path, os.path.join(target_dir, filename))\n",
    "            print(f\"  -> File '{filename}' disalin ke '{target_dir}'\")\n",
    "    print(\"✅ Proses Sortir File Selesai.\")"
   ]
  },
  {
   "cell_type": "markdown",
   "id": "ab32c3eb",
   "metadata": {},
   "source": [
    "Kode fungsi reset"
   ]
  },
  {
   "cell_type": "code",
   "execution_count": 39,
   "id": "4b8c23db",
   "metadata": {},
   "outputs": [],
   "source": [
    "def reset_all_tables():\n",
    "    \"\"\"Mengosongkan semua tabel DWH & Staging sebelum diisi ulang.\"\"\"\n",
    "    print(\"\\n--- MERESET SEMUA TABEL DI adventureworks_st ---\")\n",
    "    with engine_st.connect() as connection:\n",
    "        try:\n",
    "            # Menggunakan CASCADE untuk menangani dependensi foreign key\n",
    "            connection.execute(text('TRUNCATE TABLE \"Fakta_Penjualan\", \"Dim_Waktu\", \"Dim_Lokasi\", \"Dim_Produk\", \"Dim_Pelanggan\", stg_dokumen_pdf, stg_analisis_sentimen RESTART IDENTITY CASCADE;'))\n",
    "            connection.commit()\n",
    "            print(\"✅ Semua tabel di adventureworks_st berhasil dikosongkan.\")\n",
    "        except Exception as e:\n",
    "            print(f\"⚠️ Gagal mereset tabel: {e}\")"
   ]
  },
  {
   "cell_type": "markdown",
   "id": "0ac5208c",
   "metadata": {},
   "source": [
    "Kode fungsu etl pelanggan"
   ]
  },
  {
   "cell_type": "code",
   "execution_count": 40,
   "id": "666dc7ae",
   "metadata": {},
   "outputs": [],
   "source": [
    "def etl_dim_pelanggan_scd2():\n",
    "    print(\"\\n--- Memulai ETL SCD Tipe 2 untuk Dim_Pelanggan ---\")\n",
    "    path_sumber = os.path.join(ORGANIZED_PATH, 'csv', 'raw_pelanggan.csv')\n",
    "    source_df = pd.read_csv(path_sumber, sep=',', header=None, skiprows=1, names=pelanggan_cols)\n",
    "    source_df['nama_lengkap'] = source_df['nama_depan'] + ' ' + source_df['nama_belakang']\n",
    "    try:\n",
    "        dwh_df = pd.read_sql_query('SELECT * FROM \"Dim_Pelanggan\" WHERE status_sekarang = TRUE', engine_st)\n",
    "    except:\n",
    "        dwh_df = pd.DataFrame(columns=['pelanggan_key', 'id_pelanggan', 'nama_lengkap', 'email', 'kota_asal', 'tanggal_mulai', 'tanggal_akhir', 'status_sekarang'])\n",
    "        \n",
    "    merged_df = pd.merge(source_df, dwh_df, on='id_pelanggan', how='left', suffixes=('_new', '_old'), indicator=True)\n",
    "    new_records = merged_df[merged_df['_merge'] == 'left_only'].copy(); new_to_insert = new_records[['id_pelanggan', 'nama_lengkap_new', 'email_new', 'kota_asal_new']].copy(); new_to_insert.rename(columns={'nama_lengkap_new': 'nama_lengkap', 'email_new': 'email', 'kota_asal_new': 'kota_asal'}, inplace=True)\n",
    "    new_to_insert['tanggal_mulai'] = '1900-01-01'; new_to_insert['tanggal_akhir'] = '9999-12-31'; new_to_insert['status_sekarang'] = True\n",
    "    changed_df = merged_df[merged_df['_merge'] == 'both'].copy(); changed_df = changed_df[changed_df['kota_asal_new'] != changed_df['kota_asal_old']]\n",
    "    keys_to_expire = changed_df['pelanggan_key'].astype(int).tolist() if not changed_df.empty else []\n",
    "    updates_as_new = changed_df[['id_pelanggan', 'nama_lengkap_new', 'email_new', 'kota_asal_new']].copy(); updates_as_new.rename(columns={'nama_lengkap_new': 'nama_lengkap', 'email_new': 'email', 'kota_asal_new': 'kota_asal'}, inplace=True)\n",
    "    updates_as_new['tanggal_mulai'] = date.today(); updates_as_new['tanggal_akhir'] = '9999-12-31'; updates_as_new['status_sekarang'] = True\n",
    "    records_to_insert = pd.concat([new_to_insert, updates_as_new], ignore_index=True)\n",
    "\n",
    "    with engine_st.connect() as connection:\n",
    "        if keys_to_expire:\n",
    "            connection.execute(text(f\"\"\"UPDATE \"Dim_Pelanggan\" SET status_sekarang = FALSE, tanggal_akhir = '{date.today()}' WHERE pelanggan_key IN ({','.join(map(str, keys_to_expire))})\"\"\")); connection.commit()\n",
    "    if not records_to_insert.empty:\n",
    "        records_to_insert.to_sql('Dim_Pelanggan', engine_st, if_exists='append', index=False, chunksize=1000)\n",
    "    print(f\"✅ SUKSES! Proses SCD Tipe 2 Dim_Pelanggan selesai.\")"
   ]
  },
  {
   "cell_type": "markdown",
   "id": "9ead7898",
   "metadata": {},
   "source": [
    "Kode fungsi etl produk"
   ]
  },
  {
   "cell_type": "code",
   "execution_count": 41,
   "id": "9929a678",
   "metadata": {},
   "outputs": [],
   "source": [
    "def etl_dim_produk():\n",
    "    print(\"\\n--- Memulai ETL Dim_Produk ---\")\n",
    "    path_sumber = os.path.join(ORGANIZED_PATH, 'csv', 'raw_produk.csv')\n",
    "    df = pd.read_csv(path_sumber, sep=',', header=None, skiprows=1, names=produk_cols)\n",
    "    df['warna'].fillna('Tidak Berwarna', inplace=True)\n",
    "    df.to_sql('Dim_Produk', engine_st, if_exists='append', index=False, chunksize=1000)\n",
    "    print(f\"✅ SUKSES! {len(df)} baris dimuat ke Dim_Produk.\")"
   ]
  },
  {
   "cell_type": "markdown",
   "id": "75a543c9",
   "metadata": {},
   "source": [
    "Kode fungsi etl lokasi"
   ]
  },
  {
   "cell_type": "code",
   "execution_count": 42,
   "id": "0ee8fa45",
   "metadata": {},
   "outputs": [],
   "source": [
    "def etl_dim_lokasi():\n",
    "    print(\"\\n--- Memulai ETL Dim_Lokasi ---\")\n",
    "    # E: Extract (Ingest data mentah pelanggan dari CSV untuk mendapatkan kota_asal)\n",
    "    df = pd.read_csv(os.path.join(ORGANIZED_PATH, 'csv', 'raw_pelanggan.csv'), sep=',', header=None, skiprows=1, names=pelanggan_cols)\n",
    "    \n",
    "    # T: Transform (Mengambil nilai unik dari kolom 'kota_asal' dan buang nilai NaN)\n",
    "    df_final = pd.DataFrame(df['kota_asal'].unique(), columns=['nama_kota']).dropna()\n",
    "    \n",
    "    # L: Load (Muat data ke Dim_Lokasi di adventureworks_st)\n",
    "    df_final.to_sql('Dim_Lokasi', engine_st, if_exists='append', index=False, chunksize=1000)\n",
    "    print(f\"✅ SUKSES! {len(df_final)} baris dimuat ke Dim_Lokasi.\")"
   ]
  },
  {
   "cell_type": "markdown",
   "id": "746634cd",
   "metadata": {},
   "source": [
    "Kode fungsi etl waktu"
   ]
  },
  {
   "cell_type": "code",
   "execution_count": 43,
   "id": "04702828",
   "metadata": {},
   "outputs": [],
   "source": [
    "def etl_dim_waktu():\n",
    "    print(\"\\n--- Memulai ETL Dim_Waktu ---\")\n",
    "    # E: Extract (Ingest data mentah penjualan dari CSV untuk mendapatkan rentang tanggal)\n",
    "    df = pd.read_csv(os.path.join(ORGANIZED_PATH, 'csv', 'raw_penjualan.csv'), sep=',', header=None, skiprows=1, names=penjualan_cols)\n",
    "    df['tanggal_order'] = pd.to_datetime(df['tanggal_order'])\n",
    "    \n",
    "    # T: Transform (Membuat rentang tanggal unik dan atribut waktu)\n",
    "    date_range = pd.date_range(df['tanggal_order'].min(), df['tanggal_order'].max(), freq='D')\n",
    "    df_final = pd.DataFrame(date_range, columns=['tanggal'])\n",
    "    \n",
    "    df_final['id_waktu'] = df_final['tanggal'].dt.strftime('%Y%m%d').astype(int)\n",
    "    df_final['tahun'] = df_final['tanggal'].dt.year\n",
    "    df_final['kuartal'] = df_final['tanggal'].dt.quarter\n",
    "    df_final['bulan'] = df_final['tanggal'].dt.month\n",
    "    df_final['nama_bulan'] = df_final['tanggal'].dt.strftime('%B')\n",
    "    df_final['hari'] = df_final['tanggal'].dt.day\n",
    "    df_final['nama_hari'] = df_final['tanggal'].dt.strftime('%A')\n",
    "    \n",
    "    # L: Load (Muat data ke Dim_Waktu di adventureworks_st)\n",
    "    df_final.to_sql('Dim_Waktu', engine_st, if_exists='append', index=False, chunksize=1000)\n",
    "    print(f\"✅ SUKSES! {len(df_final)} baris dimuat ke Dim_Waktu.\")"
   ]
  },
  {
   "cell_type": "markdown",
   "id": "a55838c0",
   "metadata": {},
   "source": [
    "Kode fungsi etl pdf"
   ]
  },
  {
   "cell_type": "code",
   "execution_count": 44,
   "id": "ed5998e1",
   "metadata": {},
   "outputs": [],
   "source": [
    "def etl_pdf_to_staging():\n",
    "    print(\"\\n--- Memulai ETL untuk file PDF ---\")\n",
    "    \n",
    "    # Tentukan path folder PDF\n",
    "    pdf_folder = os.path.join(ORGANIZED_PATH, 'pdf')\n",
    "    \n",
    "    # List kosong untuk menampung hasil ekstraksi\n",
    "    hasil_ekstraksi = []\n",
    "    \n",
    "    try:\n",
    "        # Loop melalui semua file di dalam folder pdf\n",
    "        for filename in os.listdir(pdf_folder):\n",
    "            if filename.lower().endswith('.pdf'):\n",
    "                print(f\"  -> Memproses file: {filename}...\")\n",
    "                file_path = os.path.join(pdf_folder, filename)\n",
    "                \n",
    "                text = \"\"\n",
    "                # Buka dan baca file PDF\n",
    "                with open(file_path, 'rb') as file:\n",
    "                    reader = PyPDF2.PdfReader(file)\n",
    "                    for page in reader.pages:\n",
    "                        text += page.extract_text() + \"\\n\" # Tambah baris baru antar halaman\n",
    "                \n",
    "                # Tambahkan hasil ke list\n",
    "                hasil_ekstraksi.append({\n",
    "                    'nama_file': filename,\n",
    "                    'isi_teks': text\n",
    "                })\n",
    "        \n",
    "        if not hasil_ekstraksi:\n",
    "            print(\"⚠️ Tidak ada file PDF yang ditemukan untuk diproses.\")\n",
    "            return\n",
    "\n",
    "        # Transformasi: Ubah list menjadi DataFrame dan tambahkan timestamp\n",
    "        df_pdf = pd.DataFrame(hasil_ekstraksi)\n",
    "        df_pdf['tgl_ekstrak'] = datetime.now()\n",
    "        \n",
    "        # Load: Masukkan data ke tabel stg_dokumen_pdf\n",
    "        target_table_name = 'stg_dokumen_pdf'\n",
    "        print(f\"   -> Memuat {len(df_pdf)} dokumen ke tabel '{target_table_name}'...\")\n",
    "        \n",
    "        # Kita pakai 'replace' untuk staging, agar setiap run hasilnya fresh\n",
    "        df_pdf.to_sql(target_table_name, engine_st, if_exists='replace', index=False)\n",
    "\n",
    "        print(f\"✅ SUKSES! ETL untuk PDF selesai.\")\n",
    "\n",
    "    except Exception as e:\n",
    "        print(f\"❌ GAGAL! Terjadi error saat proses ETL PDF: {e}\")"
   ]
  },
  {
   "cell_type": "markdown",
   "id": "97a5b05f",
   "metadata": {},
   "source": [
    "Kode fungsi etl txt"
   ]
  },
  {
   "cell_type": "code",
   "execution_count": 45,
   "id": "f3795597",
   "metadata": {},
   "outputs": [],
   "source": [
    "def etl_txt_to_staging():\n",
    "    print(\"\\n--- Memulai ETL TXT dengan ID Pelanggan ---\")\n",
    "    \n",
    "    txt_folder = os.path.join(ORGANIZED_PATH, 'txt')\n",
    "    hasil_analisis = []\n",
    "    \n",
    "    try:\n",
    "        # Langkah Baru 1: Ambil daftar ID pelanggan asli dari DWH\n",
    "        print(\"  -> Mengambil daftar ID pelanggan dari Dim_Pelanggan...\")\n",
    "        list_id_pelanggan = pd.read_sql_query('SELECT id_pelanggan FROM \"Dim_Pelanggan\"', engine_st)['id_pelanggan'].tolist()\n",
    "        \n",
    "        if not list_id_pelanggan:\n",
    "            print(\"⚠️ GAGAL! Tidak ada data pelanggan di Dim_Pelanggan untuk dijadikan referensi.\")\n",
    "            return\n",
    "\n",
    "        print(f\"  -> Ditemukan {len(list_id_pelanggan)} ID pelanggan.\")\n",
    "\n",
    "        # Loop melalui file TXT\n",
    "        for filename in os.listdir(txt_folder):\n",
    "            if filename.lower().endswith('.txt'):\n",
    "                print(f\"  -> Menganalisis file: {filename}...\")\n",
    "                file_path = os.path.join(txt_folder, filename)\n",
    "                \n",
    "                with open(file_path, 'r', encoding='utf-8') as file:\n",
    "                    text = file.read()\n",
    "                \n",
    "                blob = TextBlob(text)\n",
    "                \n",
    "                # Langkah Baru 2: Pilih ID pelanggan secara acak dan tempelkan\n",
    "                random_customer_id = random.choice(list_id_pelanggan)\n",
    "                \n",
    "                hasil_analisis.append({\n",
    "                    'id_pelanggan': random_customer_id, # <-- KOLOM BARU\n",
    "                    'nama_file': filename,\n",
    "                    'isi_tweet': text,\n",
    "                    'polarity': blob.sentiment.polarity,\n",
    "                    'subjectivity': blob.sentiment.subjectivity\n",
    "                })\n",
    "        \n",
    "        # ... (Sisa prosesnya sama)\n",
    "        df_txt = pd.DataFrame(hasil_analisis)\n",
    "        df_txt['tgl_ekstrak'] = datetime.now()\n",
    "        \n",
    "        target_table_name = 'stg_analisis_sentimen'\n",
    "        \n",
    "        # Kita perlu pastikan tabelnya bisa menampung kolom baru\n",
    "        # Cara paling aman adalah dengan 'replace' karena ini tabel staging\n",
    "        print(f\"   -> Memuat {len(df_txt)} hasil analisis ke tabel '{target_table_name}'...\")\n",
    "        df_txt.to_sql(target_table_name, engine_st, if_exists='replace', index=False)\n",
    "\n",
    "        print(f\"✅ SUKSES! ETL untuk TXT dengan ID pelanggan selesai.\")\n",
    "\n",
    "    except Exception as e:\n",
    "        print(f\"❌ GAGAL! Terjadi error saat proses ETL TXT: {e}\")"
   ]
  },
  {
   "cell_type": "markdown",
   "id": "a37c706b",
   "metadata": {},
   "source": [
    "Kode fungsi etl fakta"
   ]
  },
  {
   "cell_type": "code",
   "execution_count": 46,
   "id": "976edc4b",
   "metadata": {},
   "outputs": [],
   "source": [
    "def etl_fakta_penjualan():\n",
    "    print(\"\\n--- Memulai ETL Fakta_Penjualan (Versi Final & Robust) ---\")\n",
    "    \n",
    "    try:\n",
    "        # --- EXTRACT ---\n",
    "        print(\"   -> [E] Mengekstrak data penjualan mentah...\")\n",
    "        df_penjualan = pd.read_csv(os.path.join(ORGANIZED_PATH, 'csv', 'raw_penjualan.csv'), sep=',', header=None, skiprows=1, names=penjualan_cols)\n",
    "        \n",
    "        print(\"   -> [E] Mengekstrak dimensi AKTIF dari DWH...\")\n",
    "        # KUNCI UTAMA: Kita hanya ambil data pelanggan yang statusnya saat ini aktif\n",
    "        df_dim_pelanggan_aktif = pd.read_sql_query('SELECT pelanggan_key, id_pelanggan, kota_asal FROM \"Dim_Pelanggan\" WHERE status_sekarang = TRUE', engine_st)\n",
    "        df_dim_lokasi = pd.read_sql_table('Dim_Lokasi', engine_st)\n",
    "        \n",
    "        # --- TRANSFORM ---\n",
    "        print(\"   -> [T] Melakukan transformasi dan penggabungan data...\")\n",
    "        \n",
    "        # 1. Buat id_waktu dari tanggal_order\n",
    "        df_penjualan['tanggal_order'] = pd.to_datetime(df_penjualan['tanggal_order'])\n",
    "        df_penjualan['id_waktu'] = df_penjualan['tanggal_order'].dt.strftime('%Y%m%d').astype(int)\n",
    "\n",
    "        # 2. Gabungkan penjualan dengan pelanggan AKTIF untuk mendapatkan pelanggan_key dan kota_asal\n",
    "        # Kita pakai INNER JOIN untuk memastikan hanya penjualan dari pelanggan yang terdaftar di DWH yang masuk\n",
    "        df_merged = pd.merge(df_penjualan, df_dim_pelanggan_aktif, on='id_pelanggan', how='inner')\n",
    "        \n",
    "        # 3. Gabungkan dengan Dim_Lokasi untuk mendapatkan id_lokasi\n",
    "        df_final = pd.merge(df_merged, df_dim_lokasi, left_on='kota_asal', right_on='nama_kota', how='left')\n",
    "\n",
    "        # 4. Pilih kolom final sesuai struktur tabel Fakta_Penjualan yang baru\n",
    "        kolom_final = [\n",
    "            'id_order_detail', \n",
    "            'id_order', \n",
    "            'pelanggan_key', # <-- Ini kunci surrogate kita\n",
    "            'id_produk', \n",
    "            'id_waktu', \n",
    "            'id_lokasi', \n",
    "            'jumlah_barang', \n",
    "            'harga_satuan', \n",
    "            'total_harga'\n",
    "        ]\n",
    "        df_final = df_final[kolom_final].copy()\n",
    "        \n",
    "        # 5. Jaring pengaman duplikat terakhir\n",
    "        df_final.drop_duplicates(subset=['id_order_detail'], keep='first', inplace=True)\n",
    "\n",
    "        # --- LOAD ---\n",
    "        print(f\"   -> [L] Memuat {len(df_final)} baris data ke Fakta_Penjualan...\")\n",
    "        if len(df_final) > 0:\n",
    "            df_final.to_sql('Fakta_Penjualan', engine_st, if_exists='append', index=False, chunksize=1000)\n",
    "            print(\"\\n✅ Proses ETL untuk Fakta_Penjualan selesai!\")\n",
    "        else:\n",
    "            print(\"\\n⚠️ Tidak ada data yang valid untuk dimuat ke Fakta_Penjualan.\")\n",
    "            \n",
    "    except Exception as e:\n",
    "        print(f\"❌ GAGAL! Terjadi error saat ETL Fakta Penjualan: {e}\")"
   ]
  },
  {
   "cell_type": "markdown",
   "id": "455e7b55",
   "metadata": {},
   "source": [
    "#### Status Fungsi ETL"
   ]
  },
  {
   "cell_type": "code",
   "execution_count": 47,
   "id": "861df416",
   "metadata": {},
   "outputs": [
    {
     "name": "stdout",
     "output_type": "stream",
     "text": [
      "✅ Semua fungsi ETL berhasil didefinisikan.\n"
     ]
    }
   ],
   "source": [
    "print(\"✅ Semua fungsi ETL berhasil didefinisikan.\")"
   ]
  },
  {
   "cell_type": "markdown",
   "id": "39096e0c",
   "metadata": {},
   "source": [
    "### Eksekusi Pipeline Utama"
   ]
  },
  {
   "cell_type": "code",
   "execution_count": 48,
   "id": "413aeac1",
   "metadata": {},
   "outputs": [
    {
     "name": "stdout",
     "output_type": "stream",
     "text": [
      "\n",
      "\n",
      "===== MEMULAI PIPELINE ETL LENGKAP =====\n",
      "\n",
      "--- Memulai Proses Sortir File Mentah ---\n",
      "  -> File 'Laporan Penjualan Q1 2025.pdf' disalin ke 'data_organized\\pdf'\n",
      "  -> File 'raw_pelanggan.csv' disalin ke 'data_organized\\csv'\n",
      "  -> File 'raw_penjualan.csv' disalin ke 'data_organized\\csv'\n",
      "  -> File 'raw_produk.csv' disalin ke 'data_organized\\csv'\n",
      "  -> File 'tweet-1.txt' disalin ke 'data_organized\\txt'\n",
      "  -> File 'tweet-10.txt' disalin ke 'data_organized\\txt'\n",
      "  -> File 'tweet-11.txt' disalin ke 'data_organized\\txt'\n",
      "  -> File 'tweet-12.txt' disalin ke 'data_organized\\txt'\n",
      "  -> File 'tweet-13.txt' disalin ke 'data_organized\\txt'\n",
      "  -> File 'tweet-14.txt' disalin ke 'data_organized\\txt'\n",
      "  -> File 'tweet-15.txt' disalin ke 'data_organized\\txt'\n",
      "  -> File 'tweet-16.txt' disalin ke 'data_organized\\txt'\n",
      "  -> File 'tweet-17.txt' disalin ke 'data_organized\\txt'\n",
      "  -> File 'tweet-18.txt' disalin ke 'data_organized\\txt'\n",
      "  -> File 'tweet-19.txt' disalin ke 'data_organized\\txt'\n",
      "  -> File 'tweet-2.txt' disalin ke 'data_organized\\txt'\n",
      "  -> File 'tweet-20.txt' disalin ke 'data_organized\\txt'\n",
      "  -> File 'tweet-3.txt' disalin ke 'data_organized\\txt'\n",
      "  -> File 'tweet-4.txt' disalin ke 'data_organized\\txt'\n",
      "  -> File 'tweet-5.txt' disalin ke 'data_organized\\txt'\n",
      "  -> File 'tweet-6.txt' disalin ke 'data_organized\\txt'\n",
      "  -> File 'tweet-7.txt' disalin ke 'data_organized\\txt'\n",
      "  -> File 'tweet-8.txt' disalin ke 'data_organized\\txt'\n",
      "  -> File 'tweet-9.txt' disalin ke 'data_organized\\txt'\n",
      "✅ Proses Sortir File Selesai.\n",
      "\n",
      "--- MERESET SEMUA TABEL DI adventureworks_st ---\n",
      "✅ Semua tabel di adventureworks_st berhasil dikosongkan.\n",
      "\n",
      "--- Memulai ETL Dim_Produk ---\n",
      "✅ SUKSES! 504 baris dimuat ke Dim_Produk.\n",
      "\n",
      "--- Memulai ETL Dim_Waktu ---\n"
     ]
    },
    {
     "name": "stderr",
     "output_type": "stream",
     "text": [
      "C:\\Users\\Pongo\\AppData\\Local\\Temp\\ipykernel_24944\\323935732.py:5: FutureWarning: A value is trying to be set on a copy of a DataFrame or Series through chained assignment using an inplace method.\n",
      "The behavior will change in pandas 3.0. This inplace method will never work because the intermediate object on which we are setting values always behaves as a copy.\n",
      "\n",
      "For example, when doing 'df[col].method(value, inplace=True)', try using 'df.method({col: value}, inplace=True)' or df[col] = df[col].method(value) instead, to perform the operation inplace on the original object.\n",
      "\n",
      "\n",
      "  df['warna'].fillna('Tidak Berwarna', inplace=True)\n"
     ]
    },
    {
     "name": "stdout",
     "output_type": "stream",
     "text": [
      "✅ SUKSES! 1127 baris dimuat ke Dim_Waktu.\n",
      "\n",
      "--- Memulai ETL SCD Tipe 2 untuk Dim_Pelanggan ---\n",
      "✅ SUKSES! Proses SCD Tipe 2 Dim_Pelanggan selesai.\n",
      "\n",
      "--- Memulai ETL Dim_Lokasi ---\n",
      "✅ SUKSES! 269 baris dimuat ke Dim_Lokasi.\n",
      "\n",
      "--- Memulai ETL untuk file PDF ---\n",
      "  -> Memproses file: Laporan Penjualan Q1 2025.pdf...\n",
      "   -> Memuat 1 dokumen ke tabel 'stg_dokumen_pdf'...\n",
      "✅ SUKSES! ETL untuk PDF selesai.\n",
      "\n",
      "--- Memulai ETL TXT dengan ID Pelanggan ---\n",
      "  -> Mengambil daftar ID pelanggan dari Dim_Pelanggan...\n",
      "  -> Ditemukan 19119 ID pelanggan.\n",
      "  -> Menganalisis file: tweet-1.txt...\n",
      "  -> Menganalisis file: tweet-10.txt...\n",
      "  -> Menganalisis file: tweet-11.txt...\n",
      "  -> Menganalisis file: tweet-12.txt...\n",
      "  -> Menganalisis file: tweet-13.txt...\n",
      "  -> Menganalisis file: tweet-14.txt...\n",
      "  -> Menganalisis file: tweet-15.txt...\n",
      "  -> Menganalisis file: tweet-16.txt...\n",
      "  -> Menganalisis file: tweet-17.txt...\n",
      "  -> Menganalisis file: tweet-18.txt...\n",
      "  -> Menganalisis file: tweet-19.txt...\n",
      "  -> Menganalisis file: tweet-2.txt...\n",
      "  -> Menganalisis file: tweet-20.txt...\n",
      "  -> Menganalisis file: tweet-3.txt...\n",
      "  -> Menganalisis file: tweet-4.txt...\n",
      "  -> Menganalisis file: tweet-5.txt...\n",
      "  -> Menganalisis file: tweet-6.txt...\n",
      "  -> Menganalisis file: tweet-7.txt...\n",
      "  -> Menganalisis file: tweet-8.txt...\n",
      "  -> Menganalisis file: tweet-9.txt...\n",
      "   -> Memuat 20 hasil analisis ke tabel 'stg_analisis_sentimen'...\n",
      "✅ SUKSES! ETL untuk TXT dengan ID pelanggan selesai.\n",
      "\n",
      "--- Memulai ETL Fakta_Penjualan (Versi Final & Robust) ---\n",
      "   -> [E] Mengekstrak data penjualan mentah...\n",
      "   -> [E] Mengekstrak dimensi AKTIF dari DWH...\n",
      "   -> [T] Melakukan transformasi dan penggabungan data...\n",
      "   -> [L] Memuat 121317 baris data ke Fakta_Penjualan...\n",
      "\n",
      "✅ Proses ETL untuk Fakta_Penjualan selesai!\n",
      "\n",
      "\n",
      "===== PIPELINE ETL SELESAI DENGAN SUKSES! =====\n"
     ]
    }
   ],
   "source": [
    "try:\n",
    "    print(\"\\n\\n===== MEMULAI PIPELINE ETL LENGKAP =====\")\n",
    "    \n",
    "    # 0. Sortir file mentah\n",
    "    sortir_file_mentah()\n",
    "    \n",
    "    # 1. Kosongkan semua tabel DWH\n",
    "    reset_all_tables()\n",
    "    \n",
    "    # 2. Bangun Dimensi Utama dulu\n",
    "    etl_dim_produk()\n",
    "    etl_dim_waktu()\n",
    "    # PENTING: Pelanggan dijalankan dulu karena jadi referensi untuk lokasi dan txt\n",
    "    etl_dim_pelanggan_scd2() \n",
    "    etl_dim_lokasi()\n",
    "\n",
    "    # 3. Proses data tidak terstruktur ke staging\n",
    "    etl_pdf_to_staging()\n",
    "    etl_txt_to_staging()\n",
    "\n",
    "    # 4. Bangun Tabel Fakta (setelah semua dimensi siap)\n",
    "    etl_fakta_penjualan()\n",
    "    \n",
    "    print(\"\\n\\n===== PIPELINE ETL SELESAI DENGAN SUKSES! =====\")\n",
    "\n",
    "except Exception as e:\n",
    "    print(f\"\\n❌ GAGAL! Error saat eksekusi pipeline: {e}\")"
   ]
  },
  {
   "cell_type": "markdown",
   "id": "73518d2f",
   "metadata": {},
   "source": [
    "### Analyze (Analisis Data dari Data Staging Area)"
   ]
  },
  {
   "cell_type": "markdown",
   "id": "f9d6b25f",
   "metadata": {},
   "source": [
    "#### Analisis 1: Total Penjualan per Kategori Produk"
   ]
  },
  {
   "cell_type": "markdown",
   "id": "80067477",
   "metadata": {},
   "source": [
    "Query ini akan menghitung total penjualan untuk setiap kategori produk dari `Fakta_Penjualan` dan `Dim_Produk`"
   ]
  },
  {
   "cell_type": "code",
   "execution_count": 49,
   "id": "c043d5cd",
   "metadata": {},
   "outputs": [
    {
     "name": "stdout",
     "output_type": "stream",
     "text": [
      "\n",
      "\n",
      "--- Memulai Analisis 1: Total Penjualan per Kategori Produk ---\n",
      "Menjalankan query analisis penjualan per kategori dari adventureworks_st...\n",
      "✅ Query berhasil dieksekusi! Hasil analisis:\n",
      "\n"
     ]
    },
    {
     "data": {
      "text/html": [
       "<div>\n",
       "<style scoped>\n",
       "    .dataframe tbody tr th:only-of-type {\n",
       "        vertical-align: middle;\n",
       "    }\n",
       "\n",
       "    .dataframe tbody tr th {\n",
       "        vertical-align: top;\n",
       "    }\n",
       "\n",
       "    .dataframe thead th {\n",
       "        text-align: right;\n",
       "    }\n",
       "</style>\n",
       "<table border=\"1\" class=\"dataframe\">\n",
       "  <thead>\n",
       "    <tr style=\"text-align: right;\">\n",
       "      <th></th>\n",
       "      <th>kategori</th>\n",
       "      <th>total_penjualan</th>\n",
       "    </tr>\n",
       "  </thead>\n",
       "  <tbody>\n",
       "    <tr>\n",
       "      <th>0</th>\n",
       "      <td>Bikes</td>\n",
       "      <td>9.514581e+07</td>\n",
       "    </tr>\n",
       "    <tr>\n",
       "      <th>1</th>\n",
       "      <td>Components</td>\n",
       "      <td>1.180781e+07</td>\n",
       "    </tr>\n",
       "    <tr>\n",
       "      <th>2</th>\n",
       "      <td>Clothing</td>\n",
       "      <td>2.141507e+06</td>\n",
       "    </tr>\n",
       "    <tr>\n",
       "      <th>3</th>\n",
       "      <td>Accessories</td>\n",
       "      <td>1.278761e+06</td>\n",
       "    </tr>\n",
       "  </tbody>\n",
       "</table>\n",
       "</div>"
      ],
      "text/plain": [
       "      kategori  total_penjualan\n",
       "0        Bikes     9.514581e+07\n",
       "1   Components     1.180781e+07\n",
       "2     Clothing     2.141507e+06\n",
       "3  Accessories     1.278761e+06"
      ]
     },
     "metadata": {},
     "output_type": "display_data"
    }
   ],
   "source": [
    "print(\"\\n\\n--- Memulai Analisis 1: Total Penjualan per Kategori Produk ---\")\n",
    "print(\"Menjalankan query analisis penjualan per kategori dari adventureworks_st...\")\n",
    "\n",
    "query_kategori = \"\"\"\n",
    "SELECT dp.kategori, SUM(fp.total_harga) AS total_penjualan\n",
    "FROM \"Fakta_Penjualan\" fp\n",
    "JOIN \"Dim_Produk\" dp ON fp.id_produk = dp.id_produk\n",
    "GROUP BY dp.kategori\n",
    "ORDER BY total_penjualan DESC;\n",
    "\"\"\"\n",
    "df_kategori = pd.read_sql_query(query_kategori, engine_st)\n",
    "print(\"✅ Query berhasil dieksekusi! Hasil analisis:\\n\")\n",
    "display(df_kategori)"
   ]
  },
  {
   "cell_type": "markdown",
   "id": "bffb1bcb",
   "metadata": {},
   "source": [
    "#### Analisis 2: Tren Penjualan Bulanan"
   ]
  },
  {
   "cell_type": "markdown",
   "id": "f0f05cf8",
   "metadata": {},
   "source": [
    "Query ini akan menghitung total penjualan per bulan untuk melihat tren penjualan dari waktu ke waktu"
   ]
  },
  {
   "cell_type": "code",
   "execution_count": 50,
   "id": "188dacf1",
   "metadata": {},
   "outputs": [
    {
     "name": "stdout",
     "output_type": "stream",
     "text": [
      "\n",
      "\n",
      "--- Memulai Analisis 2: Tren Penjualan Bulanan ---\n",
      "Menjalankan query analisis tren penjualan bulanan dari adventureworks_st...\n",
      "✅ Query tren penjualan berhasil dieksekusi! Hasil analisis:\n",
      "\n"
     ]
    },
    {
     "data": {
      "text/html": [
       "<div>\n",
       "<style scoped>\n",
       "    .dataframe tbody tr th:only-of-type {\n",
       "        vertical-align: middle;\n",
       "    }\n",
       "\n",
       "    .dataframe tbody tr th {\n",
       "        vertical-align: top;\n",
       "    }\n",
       "\n",
       "    .dataframe thead th {\n",
       "        text-align: right;\n",
       "    }\n",
       "</style>\n",
       "<table border=\"1\" class=\"dataframe\">\n",
       "  <thead>\n",
       "    <tr style=\"text-align: right;\">\n",
       "      <th></th>\n",
       "      <th>tahun</th>\n",
       "      <th>bulan</th>\n",
       "      <th>periode</th>\n",
       "      <th>total_penjualan</th>\n",
       "    </tr>\n",
       "  </thead>\n",
       "  <tbody>\n",
       "    <tr>\n",
       "      <th>0</th>\n",
       "      <td>2011</td>\n",
       "      <td>5</td>\n",
       "      <td>2011-05-01</td>\n",
       "      <td>5.038059e+05</td>\n",
       "    </tr>\n",
       "    <tr>\n",
       "      <th>1</th>\n",
       "      <td>2011</td>\n",
       "      <td>6</td>\n",
       "      <td>2011-06-01</td>\n",
       "      <td>4.589108e+05</td>\n",
       "    </tr>\n",
       "    <tr>\n",
       "      <th>2</th>\n",
       "      <td>2011</td>\n",
       "      <td>7</td>\n",
       "      <td>2011-07-01</td>\n",
       "      <td>2.046265e+06</td>\n",
       "    </tr>\n",
       "    <tr>\n",
       "      <th>3</th>\n",
       "      <td>2011</td>\n",
       "      <td>8</td>\n",
       "      <td>2011-08-01</td>\n",
       "      <td>2.496365e+06</td>\n",
       "    </tr>\n",
       "    <tr>\n",
       "      <th>4</th>\n",
       "      <td>2011</td>\n",
       "      <td>9</td>\n",
       "      <td>2011-09-01</td>\n",
       "      <td>5.020738e+05</td>\n",
       "    </tr>\n",
       "    <tr>\n",
       "      <th>5</th>\n",
       "      <td>2011</td>\n",
       "      <td>10</td>\n",
       "      <td>2011-10-01</td>\n",
       "      <td>4.590875e+06</td>\n",
       "    </tr>\n",
       "    <tr>\n",
       "      <th>6</th>\n",
       "      <td>2011</td>\n",
       "      <td>11</td>\n",
       "      <td>2011-11-01</td>\n",
       "      <td>7.378398e+05</td>\n",
       "    </tr>\n",
       "    <tr>\n",
       "      <th>7</th>\n",
       "      <td>2011</td>\n",
       "      <td>12</td>\n",
       "      <td>2011-12-01</td>\n",
       "      <td>1.309977e+06</td>\n",
       "    </tr>\n",
       "    <tr>\n",
       "      <th>8</th>\n",
       "      <td>2012</td>\n",
       "      <td>1</td>\n",
       "      <td>2012-01-01</td>\n",
       "      <td>3.970636e+06</td>\n",
       "    </tr>\n",
       "    <tr>\n",
       "      <th>9</th>\n",
       "      <td>2012</td>\n",
       "      <td>2</td>\n",
       "      <td>2012-02-01</td>\n",
       "      <td>1.475538e+06</td>\n",
       "    </tr>\n",
       "    <tr>\n",
       "      <th>10</th>\n",
       "      <td>2012</td>\n",
       "      <td>3</td>\n",
       "      <td>2012-03-01</td>\n",
       "      <td>2.976353e+06</td>\n",
       "    </tr>\n",
       "    <tr>\n",
       "      <th>11</th>\n",
       "      <td>2012</td>\n",
       "      <td>4</td>\n",
       "      <td>2012-04-01</td>\n",
       "      <td>1.770047e+06</td>\n",
       "    </tr>\n",
       "    <tr>\n",
       "      <th>12</th>\n",
       "      <td>2012</td>\n",
       "      <td>5</td>\n",
       "      <td>2012-05-01</td>\n",
       "      <td>3.092482e+06</td>\n",
       "    </tr>\n",
       "    <tr>\n",
       "      <th>13</th>\n",
       "      <td>2012</td>\n",
       "      <td>6</td>\n",
       "      <td>2012-06-01</td>\n",
       "      <td>4.114089e+06</td>\n",
       "    </tr>\n",
       "    <tr>\n",
       "      <th>14</th>\n",
       "      <td>2012</td>\n",
       "      <td>7</td>\n",
       "      <td>2012-07-01</td>\n",
       "      <td>3.427252e+06</td>\n",
       "    </tr>\n",
       "    <tr>\n",
       "      <th>15</th>\n",
       "      <td>2012</td>\n",
       "      <td>8</td>\n",
       "      <td>2012-08-01</td>\n",
       "      <td>2.177667e+06</td>\n",
       "    </tr>\n",
       "    <tr>\n",
       "      <th>16</th>\n",
       "      <td>2012</td>\n",
       "      <td>9</td>\n",
       "      <td>2012-09-01</td>\n",
       "      <td>3.455342e+06</td>\n",
       "    </tr>\n",
       "    <tr>\n",
       "      <th>17</th>\n",
       "      <td>2012</td>\n",
       "      <td>10</td>\n",
       "      <td>2012-10-01</td>\n",
       "      <td>2.547092e+06</td>\n",
       "    </tr>\n",
       "    <tr>\n",
       "      <th>18</th>\n",
       "      <td>2012</td>\n",
       "      <td>11</td>\n",
       "      <td>2012-11-01</td>\n",
       "      <td>1.873758e+06</td>\n",
       "    </tr>\n",
       "    <tr>\n",
       "      <th>19</th>\n",
       "      <td>2012</td>\n",
       "      <td>12</td>\n",
       "      <td>2012-12-01</td>\n",
       "      <td>2.830639e+06</td>\n",
       "    </tr>\n",
       "    <tr>\n",
       "      <th>20</th>\n",
       "      <td>2013</td>\n",
       "      <td>1</td>\n",
       "      <td>2013-01-01</td>\n",
       "      <td>2.088218e+06</td>\n",
       "    </tr>\n",
       "    <tr>\n",
       "      <th>21</th>\n",
       "      <td>2013</td>\n",
       "      <td>2</td>\n",
       "      <td>2013-02-01</td>\n",
       "      <td>2.320084e+06</td>\n",
       "    </tr>\n",
       "    <tr>\n",
       "      <th>22</th>\n",
       "      <td>2013</td>\n",
       "      <td>3</td>\n",
       "      <td>2013-03-01</td>\n",
       "      <td>3.413964e+06</td>\n",
       "    </tr>\n",
       "    <tr>\n",
       "      <th>23</th>\n",
       "      <td>2013</td>\n",
       "      <td>4</td>\n",
       "      <td>2013-04-01</td>\n",
       "      <td>2.534651e+06</td>\n",
       "    </tr>\n",
       "    <tr>\n",
       "      <th>24</th>\n",
       "      <td>2013</td>\n",
       "      <td>5</td>\n",
       "      <td>2013-05-01</td>\n",
       "      <td>3.309156e+06</td>\n",
       "    </tr>\n",
       "    <tr>\n",
       "      <th>25</th>\n",
       "      <td>2013</td>\n",
       "      <td>6</td>\n",
       "      <td>2013-06-01</td>\n",
       "      <td>5.174683e+06</td>\n",
       "    </tr>\n",
       "    <tr>\n",
       "      <th>26</th>\n",
       "      <td>2013</td>\n",
       "      <td>7</td>\n",
       "      <td>2013-07-01</td>\n",
       "      <td>5.002212e+06</td>\n",
       "    </tr>\n",
       "    <tr>\n",
       "      <th>27</th>\n",
       "      <td>2013</td>\n",
       "      <td>8</td>\n",
       "      <td>2013-08-01</td>\n",
       "      <td>3.345068e+06</td>\n",
       "    </tr>\n",
       "    <tr>\n",
       "      <th>28</th>\n",
       "      <td>2013</td>\n",
       "      <td>9</td>\n",
       "      <td>2013-09-01</td>\n",
       "      <td>4.540212e+06</td>\n",
       "    </tr>\n",
       "    <tr>\n",
       "      <th>29</th>\n",
       "      <td>2013</td>\n",
       "      <td>10</td>\n",
       "      <td>2013-10-01</td>\n",
       "      <td>4.801862e+06</td>\n",
       "    </tr>\n",
       "    <tr>\n",
       "      <th>30</th>\n",
       "      <td>2013</td>\n",
       "      <td>11</td>\n",
       "      <td>2013-11-01</td>\n",
       "      <td>3.313783e+06</td>\n",
       "    </tr>\n",
       "    <tr>\n",
       "      <th>31</th>\n",
       "      <td>2013</td>\n",
       "      <td>12</td>\n",
       "      <td>2013-12-01</td>\n",
       "      <td>4.078157e+06</td>\n",
       "    </tr>\n",
       "    <tr>\n",
       "      <th>32</th>\n",
       "      <td>2014</td>\n",
       "      <td>1</td>\n",
       "      <td>2014-01-01</td>\n",
       "      <td>4.292364e+06</td>\n",
       "    </tr>\n",
       "    <tr>\n",
       "      <th>33</th>\n",
       "      <td>2014</td>\n",
       "      <td>2</td>\n",
       "      <td>2014-02-01</td>\n",
       "      <td>1.337725e+06</td>\n",
       "    </tr>\n",
       "    <tr>\n",
       "      <th>34</th>\n",
       "      <td>2014</td>\n",
       "      <td>3</td>\n",
       "      <td>2014-03-01</td>\n",
       "      <td>7.238946e+06</td>\n",
       "    </tr>\n",
       "    <tr>\n",
       "      <th>35</th>\n",
       "      <td>2014</td>\n",
       "      <td>4</td>\n",
       "      <td>2014-04-01</td>\n",
       "      <td>1.797174e+06</td>\n",
       "    </tr>\n",
       "    <tr>\n",
       "      <th>36</th>\n",
       "      <td>2014</td>\n",
       "      <td>5</td>\n",
       "      <td>2014-05-01</td>\n",
       "      <td>5.379614e+06</td>\n",
       "    </tr>\n",
       "    <tr>\n",
       "      <th>37</th>\n",
       "      <td>2014</td>\n",
       "      <td>6</td>\n",
       "      <td>2014-06-01</td>\n",
       "      <td>4.900584e+04</td>\n",
       "    </tr>\n",
       "  </tbody>\n",
       "</table>\n",
       "</div>"
      ],
      "text/plain": [
       "    tahun  bulan     periode  total_penjualan\n",
       "0    2011      5  2011-05-01     5.038059e+05\n",
       "1    2011      6  2011-06-01     4.589108e+05\n",
       "2    2011      7  2011-07-01     2.046265e+06\n",
       "3    2011      8  2011-08-01     2.496365e+06\n",
       "4    2011      9  2011-09-01     5.020738e+05\n",
       "5    2011     10  2011-10-01     4.590875e+06\n",
       "6    2011     11  2011-11-01     7.378398e+05\n",
       "7    2011     12  2011-12-01     1.309977e+06\n",
       "8    2012      1  2012-01-01     3.970636e+06\n",
       "9    2012      2  2012-02-01     1.475538e+06\n",
       "10   2012      3  2012-03-01     2.976353e+06\n",
       "11   2012      4  2012-04-01     1.770047e+06\n",
       "12   2012      5  2012-05-01     3.092482e+06\n",
       "13   2012      6  2012-06-01     4.114089e+06\n",
       "14   2012      7  2012-07-01     3.427252e+06\n",
       "15   2012      8  2012-08-01     2.177667e+06\n",
       "16   2012      9  2012-09-01     3.455342e+06\n",
       "17   2012     10  2012-10-01     2.547092e+06\n",
       "18   2012     11  2012-11-01     1.873758e+06\n",
       "19   2012     12  2012-12-01     2.830639e+06\n",
       "20   2013      1  2013-01-01     2.088218e+06\n",
       "21   2013      2  2013-02-01     2.320084e+06\n",
       "22   2013      3  2013-03-01     3.413964e+06\n",
       "23   2013      4  2013-04-01     2.534651e+06\n",
       "24   2013      5  2013-05-01     3.309156e+06\n",
       "25   2013      6  2013-06-01     5.174683e+06\n",
       "26   2013      7  2013-07-01     5.002212e+06\n",
       "27   2013      8  2013-08-01     3.345068e+06\n",
       "28   2013      9  2013-09-01     4.540212e+06\n",
       "29   2013     10  2013-10-01     4.801862e+06\n",
       "30   2013     11  2013-11-01     3.313783e+06\n",
       "31   2013     12  2013-12-01     4.078157e+06\n",
       "32   2014      1  2014-01-01     4.292364e+06\n",
       "33   2014      2  2014-02-01     1.337725e+06\n",
       "34   2014      3  2014-03-01     7.238946e+06\n",
       "35   2014      4  2014-04-01     1.797174e+06\n",
       "36   2014      5  2014-05-01     5.379614e+06\n",
       "37   2014      6  2014-06-01     4.900584e+04"
      ]
     },
     "metadata": {},
     "output_type": "display_data"
    }
   ],
   "source": [
    "print(\"\\n\\n--- Memulai Analisis 2: Tren Penjualan Bulanan ---\")\n",
    "print(\"Menjalankan query analisis tren penjualan bulanan dari adventureworks_st...\")\n",
    "\n",
    "query_tren = \"\"\"\n",
    "SELECT w.tahun, w.bulan, TO_DATE(w.tahun || '-' || w.bulan, 'YYYY-MM') AS periode, SUM(fp.total_harga) AS total_penjualan\n",
    "FROM \"Fakta_Penjualan\" fp\n",
    "JOIN \"Dim_Waktu\" w ON fp.id_waktu = w.id_waktu\n",
    "GROUP BY w.tahun, w.bulan\n",
    "ORDER BY w.tahun, w.bulan;\n",
    "\"\"\"\n",
    "df_tren = pd.read_sql_query(query_tren, engine_st)\n",
    "print(\"✅ Query tren penjualan berhasil dieksekusi! Hasil analisis:\\n\")\n",
    "display(df_tren)"
   ]
  },
  {
   "cell_type": "markdown",
   "id": "2bc0dfe8",
   "metadata": {},
   "source": [
    "#### Analisis 3: Top 10 Pelanggan dengan Total Belanja Terbanyak"
   ]
  },
  {
   "cell_type": "markdown",
   "id": "ee2a12a6",
   "metadata": {},
   "source": [
    "Query ini akan mengidentifikasi 10 pelanggan teratas berdasarkan total belanja mereka, dengan mempertimbangkan status aktif pelanggan (pentingnya SCD Tipe 2)"
   ]
  },
  {
   "cell_type": "code",
   "execution_count": 51,
   "id": "745298d1",
   "metadata": {},
   "outputs": [
    {
     "name": "stdout",
     "output_type": "stream",
     "text": [
      "\n",
      "\n",
      "--- Memulai Analisis 3: Top 10 Pelanggan ---\n",
      "Menjalankan query analisis top 10 pelanggan dari adventureworks_st...\n",
      "✅ Query top 10 pelanggan berhasil dieksekusi! Hasil analisis:\n",
      "\n"
     ]
    },
    {
     "data": {
      "text/html": [
       "<div>\n",
       "<style scoped>\n",
       "    .dataframe tbody tr th:only-of-type {\n",
       "        vertical-align: middle;\n",
       "    }\n",
       "\n",
       "    .dataframe tbody tr th {\n",
       "        vertical-align: top;\n",
       "    }\n",
       "\n",
       "    .dataframe thead th {\n",
       "        text-align: right;\n",
       "    }\n",
       "</style>\n",
       "<table border=\"1\" class=\"dataframe\">\n",
       "  <thead>\n",
       "    <tr style=\"text-align: right;\">\n",
       "      <th></th>\n",
       "      <th>nama_lengkap</th>\n",
       "      <th>total_belanja</th>\n",
       "    </tr>\n",
       "  </thead>\n",
       "  <tbody>\n",
       "    <tr>\n",
       "      <th>0</th>\n",
       "      <td>Roger Harui</td>\n",
       "      <td>882472.7866</td>\n",
       "    </tr>\n",
       "    <tr>\n",
       "      <th>1</th>\n",
       "      <td>Reuben D'sa</td>\n",
       "      <td>860147.5110</td>\n",
       "    </tr>\n",
       "    <tr>\n",
       "      <th>2</th>\n",
       "      <td>Andrew Dixon</td>\n",
       "      <td>853850.6395</td>\n",
       "    </tr>\n",
       "    <tr>\n",
       "      <th>3</th>\n",
       "      <td>Robert Vessa</td>\n",
       "      <td>817127.8029</td>\n",
       "    </tr>\n",
       "    <tr>\n",
       "      <th>4</th>\n",
       "      <td>Ryan Calafato</td>\n",
       "      <td>803769.8509</td>\n",
       "    </tr>\n",
       "    <tr>\n",
       "      <th>5</th>\n",
       "      <td>Joseph Castellucio</td>\n",
       "      <td>787808.8350</td>\n",
       "    </tr>\n",
       "    <tr>\n",
       "      <th>6</th>\n",
       "      <td>Kirk DeGrasse</td>\n",
       "      <td>751632.8575</td>\n",
       "    </tr>\n",
       "    <tr>\n",
       "      <th>7</th>\n",
       "      <td>Lindsey Camacho</td>\n",
       "      <td>741363.2168</td>\n",
       "    </tr>\n",
       "    <tr>\n",
       "      <th>8</th>\n",
       "      <td>Robin McGuigan</td>\n",
       "      <td>735235.7035</td>\n",
       "    </tr>\n",
       "    <tr>\n",
       "      <th>9</th>\n",
       "      <td>Stacey Cereghino</td>\n",
       "      <td>731636.8633</td>\n",
       "    </tr>\n",
       "  </tbody>\n",
       "</table>\n",
       "</div>"
      ],
      "text/plain": [
       "         nama_lengkap  total_belanja\n",
       "0         Roger Harui    882472.7866\n",
       "1         Reuben D'sa    860147.5110\n",
       "2        Andrew Dixon    853850.6395\n",
       "3        Robert Vessa    817127.8029\n",
       "4       Ryan Calafato    803769.8509\n",
       "5  Joseph Castellucio    787808.8350\n",
       "6       Kirk DeGrasse    751632.8575\n",
       "7     Lindsey Camacho    741363.2168\n",
       "8      Robin McGuigan    735235.7035\n",
       "9    Stacey Cereghino    731636.8633"
      ]
     },
     "metadata": {},
     "output_type": "display_data"
    }
   ],
   "source": [
    "print(\"\\n\\n--- Memulai Analisis 3: Top 10 Pelanggan ---\")\n",
    "print(\"Menjalankan query analisis top 10 pelanggan dari adventureworks_st...\")\n",
    "\n",
    "query_top_cust = \"\"\"\n",
    "SELECT\n",
    "    p.nama_lengkap,\n",
    "    SUM(fp.total_harga) AS total_belanja\n",
    "FROM \"Fakta_Penjualan\" fp\n",
    "-- INI BAGIAN YANG DIPERBAIKI: Join menggunakan pelanggan_key\n",
    "JOIN \"Dim_Pelanggan\" p ON fp.pelanggan_key = p.pelanggan_key\n",
    "WHERE\n",
    "    p.status_sekarang = TRUE -- Penting: Hanya ambil pelanggan yang statusnya TRUE (aktif)\n",
    "GROUP BY\n",
    "    p.nama_lengkap\n",
    "ORDER BY\n",
    "    total_belanja DESC\n",
    "LIMIT 10;\n",
    "\"\"\"\n",
    "\n",
    "df_top_cust = pd.read_sql_query(query_top_cust, engine_st)\n",
    "print(\"✅ Query top 10 pelanggan berhasil dieksekusi! Hasil analisis:\\n\")\n",
    "display(df_top_cust)"
   ]
  },
  {
   "cell_type": "markdown",
   "id": "6f4884b8",
   "metadata": {},
   "source": [
    "#### Analisis 4: Korelasi Sentimen vs Penjualan"
   ]
  },
  {
   "cell_type": "code",
   "execution_count": 52,
   "id": "847fe784",
   "metadata": {},
   "outputs": [
    {
     "name": "stdout",
     "output_type": "stream",
     "text": [
      "--- Memulai Analisis Final: Korelasi Sentimen vs Penjualan ---\n",
      "✅ Query analisis gabungan berhasil dieksekusi! Ini hasilnya:\n"
     ]
    },
    {
     "data": {
      "text/html": [
       "<div>\n",
       "<style scoped>\n",
       "    .dataframe tbody tr th:only-of-type {\n",
       "        vertical-align: middle;\n",
       "    }\n",
       "\n",
       "    .dataframe tbody tr th {\n",
       "        vertical-align: top;\n",
       "    }\n",
       "\n",
       "    .dataframe thead th {\n",
       "        text-align: right;\n",
       "    }\n",
       "</style>\n",
       "<table border=\"1\" class=\"dataframe\">\n",
       "  <thead>\n",
       "    <tr style=\"text-align: right;\">\n",
       "      <th></th>\n",
       "      <th>nama_lengkap</th>\n",
       "      <th>polarity</th>\n",
       "      <th>total_belanja</th>\n",
       "      <th>isi_tweet</th>\n",
       "    </tr>\n",
       "  </thead>\n",
       "  <tbody>\n",
       "    <tr>\n",
       "      <th>0</th>\n",
       "      <td>Kyle Jenkins</td>\n",
       "      <td>0.500000</td>\n",
       "      <td>119.9800</td>\n",
       "      <td>🚴‍♂️ \"Baru beli sepeda dari AdventureWorks, sm...</td>\n",
       "    </tr>\n",
       "    <tr>\n",
       "      <th>1</th>\n",
       "      <td>Louis Li</td>\n",
       "      <td>0.214286</td>\n",
       "      <td>60.4700</td>\n",
       "      <td>\"AdventureWorks itu unik, mereka jual ke retai...</td>\n",
       "    </tr>\n",
       "    <tr>\n",
       "      <th>2</th>\n",
       "      <td>Melinda Alvarez</td>\n",
       "      <td>0.200000</td>\n",
       "      <td>21.4900</td>\n",
       "      <td>\"Customer service-nya AdventureWorks tuh yang ...</td>\n",
       "    </tr>\n",
       "    <tr>\n",
       "      <th>3</th>\n",
       "      <td>Jennifer Bell</td>\n",
       "      <td>0.000000</td>\n",
       "      <td>2482.2300</td>\n",
       "      <td>\"AdventureWorks paham banget sama komunitasnya...</td>\n",
       "    </tr>\n",
       "    <tr>\n",
       "      <th>4</th>\n",
       "      <td>Roy Perez</td>\n",
       "      <td>0.000000</td>\n",
       "      <td>2479.9400</td>\n",
       "      <td>\"Baru tahu ternyata AdventureWorks udah 20+ ta...</td>\n",
       "    </tr>\n",
       "    <tr>\n",
       "      <th>5</th>\n",
       "      <td>Ram Thirunavukkarasu</td>\n",
       "      <td>0.000000</td>\n",
       "      <td>1897.1715</td>\n",
       "      <td>\"AdventureWorks salah satu yang pertama pakai ...</td>\n",
       "    </tr>\n",
       "    <tr>\n",
       "      <th>6</th>\n",
       "      <td>Jenny Luo</td>\n",
       "      <td>0.000000</td>\n",
       "      <td>1589.7500</td>\n",
       "      <td>\"Satu hal yang bikin gue balik lagi ke Adventu...</td>\n",
       "    </tr>\n",
       "    <tr>\n",
       "      <th>7</th>\n",
       "      <td>Tabitha Navarro</td>\n",
       "      <td>0.000000</td>\n",
       "      <td>583.9700</td>\n",
       "      <td>\\n\"AdventureWorks perlu banget kolaborasi sama...</td>\n",
       "    </tr>\n",
       "    <tr>\n",
       "      <th>8</th>\n",
       "      <td>Julia Roberts</td>\n",
       "      <td>0.000000</td>\n",
       "      <td>574.9800</td>\n",
       "      <td>\"Cinta banget sama seri 'AdventureX'! Ringan, ...</td>\n",
       "    </tr>\n",
       "    <tr>\n",
       "      <th>9</th>\n",
       "      <td>Jenna Campbell</td>\n",
       "      <td>0.000000</td>\n",
       "      <td>574.9800</td>\n",
       "      <td>\"Wish list 2025: AdventureWorks rilis sepeda l...</td>\n",
       "    </tr>\n",
       "    <tr>\n",
       "      <th>10</th>\n",
       "      <td>Cameron Chen</td>\n",
       "      <td>0.000000</td>\n",
       "      <td>561.9200</td>\n",
       "      <td>\"Kalau kalian ke store AdventureWorks, coba mi...</td>\n",
       "    </tr>\n",
       "    <tr>\n",
       "      <th>11</th>\n",
       "      <td>Grace Martinez</td>\n",
       "      <td>0.000000</td>\n",
       "      <td>208.6900</td>\n",
       "      <td>\"Produk bagus, harga oke, tapi sayang variasi ...</td>\n",
       "    </tr>\n",
       "    <tr>\n",
       "      <th>12</th>\n",
       "      <td>Sydney Thompson</td>\n",
       "      <td>0.000000</td>\n",
       "      <td>49.9700</td>\n",
       "      <td>\"Pernah ke pabriknya AdventureWorks di tour vi...</td>\n",
       "    </tr>\n",
       "    <tr>\n",
       "      <th>13</th>\n",
       "      <td>Ryan Moore</td>\n",
       "      <td>0.000000</td>\n",
       "      <td>32.2700</td>\n",
       "      <td>\"Respect buat AdventureWorks yang berani buka ...</td>\n",
       "    </tr>\n",
       "    <tr>\n",
       "      <th>14</th>\n",
       "      <td>Martin Sai</td>\n",
       "      <td>0.000000</td>\n",
       "      <td>29.9900</td>\n",
       "      <td>\"Quality kontrol mereka luar biasa. Udah beli ...</td>\n",
       "    </tr>\n",
       "    <tr>\n",
       "      <th>15</th>\n",
       "      <td>Dawn Andersen</td>\n",
       "      <td>0.000000</td>\n",
       "      <td>24.9900</td>\n",
       "      <td>\"Ada rumor kalau AdventureWorks mau ekspansi k...</td>\n",
       "    </tr>\n",
       "    <tr>\n",
       "      <th>16</th>\n",
       "      <td>Andrew Lewis</td>\n",
       "      <td>0.000000</td>\n",
       "      <td>18.9700</td>\n",
       "      <td>\"AdventureWorks emang jagonya sepeda gunung. T...</td>\n",
       "    </tr>\n",
       "    <tr>\n",
       "      <th>17</th>\n",
       "      <td>Shannon Martin</td>\n",
       "      <td>0.000000</td>\n",
       "      <td>4.9900</td>\n",
       "      <td>\"AdventureWorks ini contoh nyata gimana digita...</td>\n",
       "    </tr>\n",
       "    <tr>\n",
       "      <th>18</th>\n",
       "      <td>Francisco Kapoor</td>\n",
       "      <td>0.000000</td>\n",
       "      <td>4.9900</td>\n",
       "      <td>\"Kenapa sih warna-warna frame sepeda mereka ga...</td>\n",
       "    </tr>\n",
       "    <tr>\n",
       "      <th>19</th>\n",
       "      <td>Isabella Morris</td>\n",
       "      <td>-0.200000</td>\n",
       "      <td>47.9400</td>\n",
       "      <td>\"AdventureWorks udah mulai go green. Packaging...</td>\n",
       "    </tr>\n",
       "  </tbody>\n",
       "</table>\n",
       "</div>"
      ],
      "text/plain": [
       "            nama_lengkap  polarity  total_belanja  \\\n",
       "0           Kyle Jenkins  0.500000       119.9800   \n",
       "1               Louis Li  0.214286        60.4700   \n",
       "2        Melinda Alvarez  0.200000        21.4900   \n",
       "3          Jennifer Bell  0.000000      2482.2300   \n",
       "4              Roy Perez  0.000000      2479.9400   \n",
       "5   Ram Thirunavukkarasu  0.000000      1897.1715   \n",
       "6              Jenny Luo  0.000000      1589.7500   \n",
       "7        Tabitha Navarro  0.000000       583.9700   \n",
       "8          Julia Roberts  0.000000       574.9800   \n",
       "9         Jenna Campbell  0.000000       574.9800   \n",
       "10          Cameron Chen  0.000000       561.9200   \n",
       "11        Grace Martinez  0.000000       208.6900   \n",
       "12       Sydney Thompson  0.000000        49.9700   \n",
       "13            Ryan Moore  0.000000        32.2700   \n",
       "14            Martin Sai  0.000000        29.9900   \n",
       "15         Dawn Andersen  0.000000        24.9900   \n",
       "16          Andrew Lewis  0.000000        18.9700   \n",
       "17        Shannon Martin  0.000000         4.9900   \n",
       "18      Francisco Kapoor  0.000000         4.9900   \n",
       "19       Isabella Morris -0.200000        47.9400   \n",
       "\n",
       "                                            isi_tweet  \n",
       "0   🚴‍♂️ \"Baru beli sepeda dari AdventureWorks, sm...  \n",
       "1   \"AdventureWorks itu unik, mereka jual ke retai...  \n",
       "2   \"Customer service-nya AdventureWorks tuh yang ...  \n",
       "3   \"AdventureWorks paham banget sama komunitasnya...  \n",
       "4   \"Baru tahu ternyata AdventureWorks udah 20+ ta...  \n",
       "5   \"AdventureWorks salah satu yang pertama pakai ...  \n",
       "6   \"Satu hal yang bikin gue balik lagi ke Adventu...  \n",
       "7   \\n\"AdventureWorks perlu banget kolaborasi sama...  \n",
       "8   \"Cinta banget sama seri 'AdventureX'! Ringan, ...  \n",
       "9   \"Wish list 2025: AdventureWorks rilis sepeda l...  \n",
       "10  \"Kalau kalian ke store AdventureWorks, coba mi...  \n",
       "11  \"Produk bagus, harga oke, tapi sayang variasi ...  \n",
       "12  \"Pernah ke pabriknya AdventureWorks di tour vi...  \n",
       "13  \"Respect buat AdventureWorks yang berani buka ...  \n",
       "14  \"Quality kontrol mereka luar biasa. Udah beli ...  \n",
       "15  \"Ada rumor kalau AdventureWorks mau ekspansi k...  \n",
       "16  \"AdventureWorks emang jagonya sepeda gunung. T...  \n",
       "17  \"AdventureWorks ini contoh nyata gimana digita...  \n",
       "18  \"Kenapa sih warna-warna frame sepeda mereka ga...  \n",
       "19  \"AdventureWorks udah mulai go green. Packaging...  "
      ]
     },
     "metadata": {},
     "output_type": "display_data"
    }
   ],
   "source": [
    "import pandas as pd\n",
    "from sqlalchemy import create_engine\n",
    "from datetime import datetime\n",
    "import os\n",
    "print(\"--- Memulai Analisis Final: Korelasi Sentimen vs Penjualan ---\")\n",
    "\n",
    "query_final = \"\"\"\n",
    "WITH\n",
    "    -- Langkah 1: Hitung total belanja untuk setiap pelanggan aktif\n",
    "    BelanjaPelanggan AS (\n",
    "        SELECT\n",
    "            p.id_pelanggan, -- Ambil id_pelanggan dari tabel dimensi\n",
    "            p.nama_lengkap,\n",
    "            SUM(fp.total_harga) AS total_belanja\n",
    "        FROM \"Fakta_Penjualan\" fp\n",
    "        -- INI BAGIAN YANG DIPERBAIKI: Join menggunakan pelanggan_key\n",
    "        JOIN \"Dim_Pelanggan\" p ON fp.pelanggan_key = p.pelanggan_key\n",
    "        WHERE p.status_sekarang = TRUE -- Filter hanya pelanggan aktif\n",
    "        GROUP BY p.id_pelanggan, p.nama_lengkap\n",
    "    ),\n",
    "    -- Langkah 2: Ambil data sentimen pelanggan dari tabel staging\n",
    "    SentimenPelanggan AS (\n",
    "        SELECT\n",
    "            id_pelanggan,\n",
    "            polarity,\n",
    "            isi_tweet\n",
    "        FROM stg_analisis_sentimen\n",
    "    )\n",
    "-- Langkah 3: Gabungkan keduanya berdasarkan id_pelanggan\n",
    "SELECT\n",
    "    bp.nama_lengkap,\n",
    "    sp.polarity,\n",
    "    bp.total_belanja,\n",
    "    sp.isi_tweet\n",
    "FROM SentimenPelanggan sp\n",
    "JOIN BelanjaPelanggan bp ON sp.id_pelanggan = bp.id_pelanggan\n",
    "ORDER BY\n",
    "    sp.polarity DESC, total_belanja DESC;\n",
    "\"\"\"\n",
    "\n",
    "try:\n",
    "    df_final_report = pd.read_sql_query(query_final, engine_st)\n",
    "    print(\"✅ Query analisis gabungan berhasil dieksekusi! Ini hasilnya:\")\n",
    "    display(df_final_report)\n",
    "except Exception as e:\n",
    "    print(f\"❌ GAGAL! Terjadi error saat menjalankan analisis: {e}\")"
   ]
  },
  {
   "cell_type": "markdown",
   "id": "9980748c",
   "metadata": {},
   "source": [
    "### Warehouse (Membangun Data Warehouse: `adventureworks_wh`) & Visualisasi"
   ]
  },
  {
   "cell_type": "markdown",
   "id": "def66528",
   "metadata": {},
   "source": [
    "#### Hasil Analisis 1: Penjualan per Kategori Produk"
   ]
  },
  {
   "cell_type": "markdown",
   "id": "99203646",
   "metadata": {},
   "source": [
    "Data `df_kategori` akan dimuat ke `adventureworks_wh` dan divisualisasikan sebagai Bar Chart"
   ]
  },
  {
   "cell_type": "code",
   "execution_count": 53,
   "id": "3bf4f508",
   "metadata": {},
   "outputs": [
    {
     "name": "stdout",
     "output_type": "stream",
     "text": [
      "\n",
      "\n",
      "--- Membangun Data Mart & Visualisasi untuk Penjualan per Kategori Produk ---\n",
      "Menambahkan timestamp laporan: 2025-06-24 13:43:52.223714\n",
      "Menambahkan data ringkasan baru ke tabel 'rpt_penjualan_per_kategori' di database 'adventureworks_wh'...\n",
      "✅ Tabel 'rpt_penjualan_per_kategori' berhasil ditambahkan 4 baris data baru.\n",
      "\n",
      "Membuat visualisasi (Bar Chart) dan menyimpannya ke folder 'output'...\n"
     ]
    },
    {
     "name": "stderr",
     "output_type": "stream",
     "text": [
      "C:\\Users\\Pongo\\AppData\\Local\\Temp\\ipykernel_24944\\4228507807.py:17: FutureWarning: \n",
      "\n",
      "Passing `palette` without assigning `hue` is deprecated and will be removed in v0.14.0. Assign the `y` variable to `hue` and set `legend=False` for the same effect.\n",
      "\n",
      "  barplot = sns.barplot(x='total_penjualan', y='kategori', data=df_kategori, palette='magma')\n"
     ]
    },
    {
     "data": {
      "image/png": "[encoded data removed]",
      "text/plain": [
       "<Figure size 1200x700 with 1 Axes>"
      ]
     },
     "metadata": {},
     "output_type": "display_data"
    },
    {
     "name": "stdout",
     "output_type": "stream",
     "text": [
      "🎉 SUKSES! Grafik telah disimpan sebagai 'penjualan_per_kategori.png'.\n"
     ]
    }
   ],
   "source": [
    "print(\"\\n\\n--- Membangun Data Mart & Visualisasi untuk Penjualan per Kategori Produk ---\")\n",
    "\n",
    "# Transformasi: Tambahkan timestamp laporan\n",
    "waktu_laporan_dibuat = datetime.now()\n",
    "df_kategori['tgl_laporan'] = waktu_laporan_dibuat\n",
    "print(f\"Menambahkan timestamp laporan: {waktu_laporan_dibuat}\")\n",
    "\n",
    "# Load Hasil Analisis ke Data Mart (`adventureworks_wh`) - Mode Append\n",
    "target_table_name_kategori = 'rpt_penjualan_per_kategori'\n",
    "print(f\"Menambahkan data ringkasan baru ke tabel '{target_table_name_kategori}' di database '{db_name_wh}'...\")\n",
    "df_kategori.to_sql(target_table_name_kategori, engine_wh, if_exists='append', index=False)\n",
    "print(f\"✅ Tabel '{target_table_name_kategori}' berhasil ditambahkan {len(df_kategori)} baris data baru.\")\n",
    "\n",
    "# Visualisasi & Simpan Gambar\n",
    "print(\"\\nMembuat visualisasi (Bar Chart) dan menyimpannya ke folder 'output'...\")\n",
    "plt.figure(figsize=(12, 7))\n",
    "barplot = sns.barplot(x='total_penjualan', y='kategori', data=df_kategori, palette='magma')\n",
    "plt.title('Total Penjualan Berdasarkan Kategori Produk', fontsize=16, pad=20)\n",
    "plt.xlabel('Total Penjualan (dalam Juta)', fontsize=12)\n",
    "plt.ylabel('Kategori Produk', fontsize=12)\n",
    "barplot.xaxis.set_major_formatter(lambda x, pos: f'{x/1e6:.0f} Jt')\n",
    "plt.tight_layout() # Untuk memastikan semua label terlihat\n",
    "timestamp_str = datetime.now().strftime(\"%Y%m%d_%H%M%S\")\n",
    "nama_file_baru = f\"{timestamp_str}_penjualan_per_kategori.png\"\n",
    "os.makedirs(OUTPUT_PATH, exist_ok=True)\n",
    "image_path = os.path.join(OUTPUT_PATH, nama_file_baru)\n",
    "plt.savefig(image_path, dpi=300, bbox_inches='tight')\n",
    "plt.show()\n",
    "print(f\"🎉 SUKSES! Grafik telah disimpan sebagai 'penjualan_per_kategori.png'.\")"
   ]
  },
  {
   "cell_type": "markdown",
   "id": "0f2505b6",
   "metadata": {},
   "source": [
    "#### Hasil Analisis 2: Tren Penjualan Bulanan"
   ]
  },
  {
   "cell_type": "markdown",
   "id": "c812875a",
   "metadata": {},
   "source": [
    "Data `df_tren` akan dimuat ke `adventureworks_wh` dan divisualisasikan sebagai Line Chart"
   ]
  },
  {
   "cell_type": "code",
   "execution_count": 54,
   "id": "083a2ff2",
   "metadata": {},
   "outputs": [
    {
     "name": "stdout",
     "output_type": "stream",
     "text": [
      "\n",
      "\n",
      "--- Membangun Data Mart & Visualisasi untuk Tren Penjualan Bulanan ---\n",
      "Menambahkan timestamp laporan: 2025-06-24 13:43:52.743334\n",
      "Menambahkan data ringkasan baru ke tabel 'rpt_tren_penjualan_bulanan' di database 'adventureworks_wh'...\n",
      "✅ Tabel ringkasan 'rpt_tren_penjualan_bulanan' berhasil ditambahkan data baru.\n",
      "\n",
      "Membuat visualisasi (Line Chart) dan menyimpannya ke folder 'output'...\n"
     ]
    },
    {
     "data": {
      "image/png": "[encoded data removed]",
      "text/plain": [
       "<Figure size 1500x700 with 1 Axes>"
      ]
     },
     "metadata": {},
     "output_type": "display_data"
    },
    {
     "name": "stdout",
     "output_type": "stream",
     "text": [
      "🎉 SUKSES! Grafik telah disimpan sebagai 'tren_penjualan_bulanan.png'.\n"
     ]
    }
   ],
   "source": [
    "print(\"\\n\\n--- Membangun Data Mart & Visualisasi untuk Tren Penjualan Bulanan ---\")\n",
    "\n",
    "# Transformasi: Tambahkan timestamp laporan\n",
    "waktu_laporan_dibuat = datetime.now()\n",
    "df_tren['tgl_laporan'] = waktu_laporan_dibuat\n",
    "print(f\"Menambahkan timestamp laporan: {waktu_laporan_dibuat}\")\n",
    "\n",
    "# Load Hasil Analisis ke Data Mart (`adventureworks_wh`)\n",
    "target_table_name_tren = 'rpt_tren_penjualan_bulanan'\n",
    "print(f\"Menambahkan data ringkasan baru ke tabel '{target_table_name_tren}' di database '{db_name_wh}'...\")\n",
    "df_tren.to_sql(target_table_name_tren, engine_wh, if_exists='append', index=False)\n",
    "print(f\"✅ Tabel ringkasan '{target_table_name_tren}' berhasil ditambahkan data baru.\")\n",
    "\n",
    "# Visualisasi & Simpan Gambar\n",
    "print(\"\\nMembuat visualisasi (Line Chart) dan menyimpannya ke folder 'output'...\")\n",
    "plt.figure(figsize=(15, 7))\n",
    "lineplot = sns.lineplot(x='periode', y='total_penjualan', data=df_tren, marker='o', color='royalblue')\n",
    "plt.title('Tren Total Penjualan per Bulan', fontsize=18, pad=20)\n",
    "plt.xlabel('Periode (Bulan)', fontsize=12)\n",
    "plt.ylabel('Total Penjualan (dalam Juta)', fontsize=12)\n",
    "plt.xticks(rotation=45)\n",
    "lineplot.yaxis.set_major_formatter(lambda x, pos: f'{x/1e6:.1f} Jt')\n",
    "plt.tight_layout()\n",
    "timestamp_str = datetime.now().strftime(\"%Y%m%d_%H%M%S\")\n",
    "nama_file_baru = f\"{timestamp_str}_tren_penjualan_bulanan.png\"\n",
    "os.makedirs(OUTPUT_PATH, exist_ok=True)\n",
    "image_path = os.path.join(OUTPUT_PATH, nama_file_baru)\n",
    "plt.savefig(image_path, dpi=300, bbox_inches='tight')\n",
    "plt.show()\n",
    "print(f\"🎉 SUKSES! Grafik telah disimpan sebagai 'tren_penjualan_bulanan.png'.\")"
   ]
  },
  {
   "cell_type": "markdown",
   "id": "9e52d244",
   "metadata": {},
   "source": [
    "#### Hasil Analisis 3: Top 10 Pelanggan dengan Total Belanja Terbanyak"
   ]
  },
  {
   "cell_type": "markdown",
   "id": "d8559a9b",
   "metadata": {},
   "source": [
    "Data `df_top_cust` akan dimuat ke `adventureworks_wh` dan divisualisasikan sebagai Horizontal Bar Chart"
   ]
  },
  {
   "cell_type": "code",
   "execution_count": 55,
   "id": "19106518",
   "metadata": {},
   "outputs": [
    {
     "name": "stdout",
     "output_type": "stream",
     "text": [
      "\n",
      "\n",
      "--- Membangun Data Mart & Visualisasi untuk Top 10 Pelanggan ---\n",
      "Menambahkan timestamp laporan: 2025-06-24 13:43:52.743334\n",
      "Menyimpan hasil ringkasan ke tabel 'rpt_top_10_pelanggan' di database 'adventureworks_wh'...\n",
      "✅ Tabel ringkasan 'rpt_top_10_pelanggan' berhasil ditambahkan data baru.\n",
      "\n",
      "Membuat visualisasi (Horizontal Bar Chart) dan menyimpannya ke folder 'output'...\n"
     ]
    },
    {
     "name": "stderr",
     "output_type": "stream",
     "text": [
      "C:\\Users\\Pongo\\AppData\\Local\\Temp\\ipykernel_24944\\2672333238.py:16: FutureWarning: \n",
      "\n",
      "Passing `palette` without assigning `hue` is deprecated and will be removed in v0.14.0. Assign the `y` variable to `hue` and set `legend=False` for the same effect.\n",
      "\n",
      "  barplot = sns.barplot(\n"
     ]
    },
    {
     "data": {
      "image/png": "[encoded data removed]",
      "text/plain": [
       "<Figure size 1200x800 with 1 Axes>"
      ]
     },
     "metadata": {},
     "output_type": "display_data"
    },
    {
     "name": "stdout",
     "output_type": "stream",
     "text": [
      "🎉 SUKSES! Grafik telah disimpan sebagai 'top_10_pelanggan.png'.\n"
     ]
    }
   ],
   "source": [
    "print(\"\\n\\n--- Membangun Data Mart & Visualisasi untuk Top 10 Pelanggan ---\")\n",
    "\n",
    "# Transformasi: Tambahkan timestamp laporan\n",
    "df_top_cust['tgl_laporan'] = datetime.now()\n",
    "print(f\"Menambahkan timestamp laporan: {waktu_laporan_dibuat}\")\n",
    "\n",
    "# Load Hasil Analisis ke Data Mart (`adventureworks_wh`)\n",
    "target_table_name_top_cust = 'rpt_top_10_pelanggan'\n",
    "print(f\"Menyimpan hasil ringkasan ke tabel '{target_table_name_top_cust}' di database '{db_name_wh}'...\")\n",
    "df_top_cust.to_sql(target_table_name_top_cust, engine_wh, if_exists='append', index=False)\n",
    "print(f\"✅ Tabel ringkasan '{target_table_name_top_cust}' berhasil ditambahkan data baru.\")\n",
    "\n",
    "# Visualisasi & Simpan Gambar\n",
    "print(\"\\nMembuat visualisasi (Horizontal Bar Chart) dan menyimpannya ke folder 'output'...\")\n",
    "plt.figure(figsize=(12, 8)) # Buat figur sedikit lebih tinggi\n",
    "barplot = sns.barplot(\n",
    "    x='total_belanja',\n",
    "    y='nama_lengkap',\n",
    "    data=df_top_cust,\n",
    "    palette='viridis'\n",
    ")\n",
    "plt.title('Top 10 Pelanggan dengan Total Belanja Terbanyak', fontsize=18, pad=20)\n",
    "plt.xlabel('Total Belanja (dalam Ribu)', fontsize=12)\n",
    "plt.ylabel('Nama Pelanggan', fontsize=12)\n",
    "barplot.xaxis.set_major_formatter(lambda x, pos: f'{(x/1e3):.0f} Rb')\n",
    "plt.tight_layout()\n",
    "timestamp_str = datetime.now().strftime(\"%Y%m%d_%H%M%S\")\n",
    "nama_file_baru = f\"{timestamp_str}_top_10_pelanggan.png\"\n",
    "os.makedirs(OUTPUT_PATH, exist_ok=True)\n",
    "image_path = os.path.join(OUTPUT_PATH, nama_file_baru)\n",
    "plt.savefig(image_path, dpi=300, bbox_inches='tight')\n",
    "plt.show()\n",
    "print(f\"🎉 SUKSES! Grafik telah disimpan sebagai 'top_10_pelanggan.png'.\")"
   ]
  },
  {
   "cell_type": "markdown",
   "id": "b904f3df",
   "metadata": {},
   "source": [
    "#### Hasil Analisis 4: Menyimpan laporan dalam warehouse"
   ]
  },
  {
   "cell_type": "code",
   "execution_count": 56,
   "id": "d19c0b8f",
   "metadata": {},
   "outputs": [
    {
     "name": "stdout",
     "output_type": "stream",
     "text": [
      "\n",
      "Menyimpan laporan final ke tabel 'rpt_sentimen_vs_penjualan'...\n",
      "✅ Laporan final berhasil disimpan di Data Mart ('rpt_sentimen_vs_penjualan')!\n"
     ]
    }
   ],
   "source": [
    "if 'df_final_report' in locals():\n",
    "    # Transformasi: Tambahkan timestamp laporan\n",
    "    df_final_report['tgl_laporan'] = datetime.now()\n",
    "    \n",
    "    # Load Hasil Analisis ke Data Mart (_wh)\n",
    "    target_table_name = 'rpt_sentimen_vs_penjualan'\n",
    "    print(f\"\\nMenyimpan laporan final ke tabel '{target_table_name}'...\")\n",
    "    df_final_report.to_sql(target_table_name, engine_wh, if_exists='append', index=False)\n",
    "    print(f\"✅ Laporan final berhasil disimpan di Data Mart ('{target_table_name}')!\")\n",
    "else:\n",
    "    print(\"⚠️ DataFrame 'df_final_report' tidak ditemukan. Jalankan sel analisis terlebih dahulu.\")"
   ]
  }
 ],
 "metadata": {
  "kernelspec": {
   "display_name": "Python 3",
   "language": "python",
   "name": "python3"
  },
  "language_info": {
   "codemirror_mode": {
    "name": "ipython",
    "version": 3
   },
   "file_extension": ".py",
   "mimetype": "text/x-python",
   "name": "python",
   "nbconvert_exporter": "python",
   "pygments_lexer": "ipython3",
   "version": "3.12.4"
  }
 },
 "nbformat": 4,
 "nbformat_minor": 5
}
