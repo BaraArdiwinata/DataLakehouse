{
 "cells": [
  {
   "cell_type": "markdown",
   "id": "7e48f361",
   "metadata": {},
   "source": [
    "# Project Data Lake"
   ]
  },
  {
   "cell_type": "markdown",
   "id": "7fd90a6a",
   "metadata": {},
   "source": [
    "### Setup dan Konfigurasi"
   ]
  },
  {
   "cell_type": "markdown",
   "id": "bd2d5d64",
   "metadata": {},
   "source": [
    "#### Import library"
   ]
  },
  {
   "cell_type": "code",
   "execution_count": 47,
   "id": "04b020bd",
   "metadata": {},
   "outputs": [],
   "source": [
    "import pandas as pd\n",
    "from sqlalchemy import create_engine, text\n",
    "import os\n",
    "import shutil\n",
    "from datetime import date, datetime\n",
    "import matplotlib.pyplot as plt\n",
    "import seaborn as sns\n",
    "import PyPDF2\n",
    "from textblob import TextBlob\n",
    "import random\n"
   ]
  },
  {
   "cell_type": "markdown",
   "id": "cf1713ce",
   "metadata": {},
   "source": [
    "#### Konfigurasi Koneksi Database"
   ]
  },
  {
   "cell_type": "markdown",
   "id": "24cbb540",
   "metadata": {},
   "source": [
    "Konfigurasi koneksi ke database PostgreSQL"
   ]
  },
  {
   "cell_type": "code",
   "execution_count": 48,
   "id": "7b1d33f4",
   "metadata": {},
   "outputs": [],
   "source": [
    "db_user = 'postgres'\n",
    "db_password = 'ardiwinata230803'\n",
    "db_host = 'localhost'\n",
    "db_port = '5432'"
   ]
  },
  {
   "cell_type": "markdown",
   "id": "d809ece8",
   "metadata": {},
   "source": [
    "Koneksi ke DB Staging Area (adventureworks_st)"
   ]
  },
  {
   "cell_type": "code",
   "execution_count": 49,
   "id": "f1c17f85",
   "metadata": {},
   "outputs": [
    {
     "name": "stdout",
     "output_type": "stream",
     "text": [
      "✅ Koneksi ke database Staging Area ('adventureworks_st') berhasil!\n"
     ]
    }
   ],
   "source": [
    "db_name_st = 'adventureworks_st'\n",
    "connection_string_st = f\"postgresql+psycopg2://{db_user}:{db_password}@{db_host}:{db_port}/{db_name_st}\"\n",
    "engine_st = create_engine(connection_string_st)\n",
    "print(f\"✅ Koneksi ke database Staging Area ('{db_name_st}') berhasil!\")"
   ]
  },
  {
   "cell_type": "markdown",
   "id": "2993076b",
   "metadata": {},
   "source": [
    "Koneksi ke DB Data Warehouse (adventureworks_wh)"
   ]
  },
  {
   "cell_type": "code",
   "execution_count": 50,
   "id": "20de7aa2",
   "metadata": {},
   "outputs": [
    {
     "name": "stdout",
     "output_type": "stream",
     "text": [
      "✅ Koneksi ke database Data Warehouse ('adventureworks_wh') berhasil!\n"
     ]
    }
   ],
   "source": [
    "db_name_wh = 'adventureworks_wh'\n",
    "connection_string_wh = f\"postgresql+psycopg2://{db_user}:{db_password}@{db_host}:{db_port}/{db_name_wh}\"\n",
    "engine_wh = create_engine(connection_string_wh)\n",
    "print(f\"✅ Koneksi ke database Data Warehouse ('{db_name_wh}') berhasil!\")"
   ]
  },
  {
   "cell_type": "markdown",
   "id": "b4a7b569",
   "metadata": {},
   "source": [
    "#### Konfigurasi Path Folder"
   ]
  },
  {
   "cell_type": "code",
   "execution_count": 51,
   "id": "76a8f0b0",
   "metadata": {},
   "outputs": [
    {
     "name": "stdout",
     "output_type": "stream",
     "text": [
      "✅ Semua path folder berhasil dikonfigurasi.\n"
     ]
    }
   ],
   "source": [
    "ORGANIZED_PATH = 'data_organized'\n",
    "RAW_DATA_PATH = 'data_raw'\n",
    "OUTPUT_PATH = 'output'\n",
    "\n",
    "print(\"✅ Semua path folder berhasil dikonfigurasi.\")"
   ]
  },
  {
   "cell_type": "markdown",
   "id": "8f83b8e6",
   "metadata": {},
   "source": [
    "#### Definisi Nama Kolom untuk Data Raw"
   ]
  },
  {
   "cell_type": "markdown",
   "id": "e15b0f09",
   "metadata": {},
   "source": [
    "Ini penting untuk membaca file CSV yang tidak memiliki header"
   ]
  },
  {
   "cell_type": "code",
   "execution_count": 52,
   "id": "4bf2e217",
   "metadata": {},
   "outputs": [],
   "source": [
    "pelanggan_cols = ['id_pelanggan', 'nama_depan', 'nama_belakang', 'email', 'kota_asal']\n",
    "produk_cols = ['id_produk', 'nama_produk', 'subkategori', 'kategori', 'harga_standar', 'warna', 'lini_produk']\n",
    "penjualan_cols = ['id_order', 'id_order_detail', 'tanggal_order', 'id_pelanggan', 'id_produk', 'jumlah_barang', 'harga_satuan', 'total_harga']"
   ]
  },
  {
   "cell_type": "markdown",
   "id": "175e4ee2",
   "metadata": {},
   "source": [
    "#### Status Konfigurasi"
   ]
  },
  {
   "cell_type": "code",
   "execution_count": 53,
   "id": "8bc0b0ff",
   "metadata": {},
   "outputs": [
    {
     "name": "stdout",
     "output_type": "stream",
     "text": [
      "✅ Setup dan Konfigurasi Selesai.\n"
     ]
    }
   ],
   "source": [
    "print(\"✅ Setup dan Konfigurasi Selesai.\")"
   ]
  },
  {
   "cell_type": "markdown",
   "id": "952ec7b4",
   "metadata": {},
   "source": [
    "### Kumpulan Fungsi ETL"
   ]
  },
  {
   "cell_type": "markdown",
   "id": "0abf203b",
   "metadata": {},
   "source": [
    "Sortir file dalam folder"
   ]
  },
  {
   "cell_type": "code",
   "execution_count": 54,
   "id": "c7ea8ff1",
   "metadata": {},
   "outputs": [],
   "source": [
    "def sortir_file_mentah():\n",
    "    \"\"\"Memindahkan file dari landing zone ke folder terorganisir berdasarkan tipe.\"\"\"\n",
    "    print(\"\\n--- Memulai Proses Sortir File Mentah ---\")\n",
    "    \n",
    "    # Definisikan path sumber dan tujuan\n",
    "    source_path = 'data_raw'\n",
    "    organized_base = 'data_organized'\n",
    "    \n",
    "    paths = {\n",
    "        '.csv': os.path.join(organized_base, 'csv'),\n",
    "        '.pdf': os.path.join(organized_base, 'pdf'),\n",
    "        '.txt': os.path.join(organized_base, 'txt')\n",
    "    }\n",
    "\n",
    "    # Pastikan semua folder tujuan ada\n",
    "    for path in paths.values():\n",
    "        os.makedirs(path, exist_ok=True)\n",
    "        \n",
    "    # Pindahkan file\n",
    "    files_to_move = os.listdir(source_path)\n",
    "    if not files_to_move:\n",
    "        print(\"-> Folder data_landing kosong, tidak ada file yang disortir.\")\n",
    "        return\n",
    "        \n",
    "    for filename in files_to_move:\n",
    "        file_path = os.path.join(source_path, filename)\n",
    "        _, ext = os.path.splitext(filename)\n",
    "        ext = ext.lower()\n",
    "\n",
    "        if ext in paths:\n",
    "            # Kita pakai shutil.copy biar file asli tetap ada di landing zone sebagai backup\n",
    "            shutil.copy(file_path, os.path.join(paths[ext], filename))\n",
    "            print(f\"  -> File '{filename}' disalin ke '{paths[ext]}'\")\n",
    "        else:\n",
    "            print(f\"  -> File '{filename}' tidak dikenali tipenya, dilewati.\")\n",
    "            \n",
    "    print(\"✅ Proses Sortir File Selesai.\")"
   ]
  },
  {
   "cell_type": "markdown",
   "id": "ab32c3eb",
   "metadata": {},
   "source": [
    "Kode fungsi reset"
   ]
  },
  {
   "cell_type": "code",
   "execution_count": 55,
   "id": "4b8c23db",
   "metadata": {},
   "outputs": [],
   "source": [
    "def reset_all_tables_dwh_staging():\n",
    "    \"\"\"Mengosongkan semua tabel di Data Warehouse Inti (adventureworks_st) sebelum diisi ulang.\"\"\"\n",
    "    print(\"\\n--- MERESET SEMUA TABEL DI DATA WAREHOUSE INTI (adventureworks_st) ---\")\n",
    "    with engine_st.connect() as connection:\n",
    "        # TRUNCATE dengan CASCADE untuk memastikan penghapusan berantai dan menghindari masalah foreign key\n",
    "        try:\n",
    "            connection.execute(text('TRUNCATE TABLE \"Fakta_Penjualan\" CASCADE;'))\n",
    "            connection.execute(text('TRUNCATE TABLE \"Dim_Pelanggan\" CASCADE;'))\n",
    "            connection.execute(text('TRUNCATE TABLE \"Dim_Produk\" CASCADE;'))\n",
    "            connection.execute(text('TRUNCATE TABLE \"Dim_Lokasi\" CASCADE;'))\n",
    "            connection.execute(text('TRUNCATE TABLE \"Dim_Waktu\" CASCADE;'))\n",
    "            connection.commit()\n",
    "            print(\"✅ Semua tabel di adventureworks_st berhasil dikosongkan.\")\n",
    "        except Exception as e:\n",
    "            print(f\"⚠️ Gagal mereset tabel (mungkin tabel belum ada, ini normal pada eksekusi pertama): {e}\")\n",
    "            print(\"Melanjutkan proses... (Pastikan tabel sudah dibuat jika ini bukan eksekusi pertama)\")"
   ]
  },
  {
   "cell_type": "markdown",
   "id": "0ac5208c",
   "metadata": {},
   "source": [
    "Kode fungsu etl pelanggan"
   ]
  },
  {
   "cell_type": "code",
   "execution_count": 56,
   "id": "666dc7ae",
   "metadata": {},
   "outputs": [],
   "source": [
    "def etl_dim_pelanggan_scd2():\n",
    "    print(\"\\n--- Memulai ETL SCD Tipe 2 untuk Dim_Pelanggan ---\")\n",
    "    \n",
    "    # E: Extract (Ingest data mentah pelanggan dari CSV)\n",
    "    source_df = pd.read_csv(os.path.join('data_organized', 'csv', 'raw_pelanggan.csv'), sep=',', header=None, skiprows=1, names=pelanggan_cols)\n",
    "    # T: Transform (Pembentukan nama lengkap)\n",
    "    source_df['nama_lengkap'] = source_df['nama_depan'] + ' ' + source_df['nama_belakang']\n",
    "\n",
    "    try:\n",
    "        # Extract: Baca data pelanggan aktif dari DWH (status_sekarang = TRUE)\n",
    "        dwh_df = pd.read_sql_query('SELECT * FROM \"Dim_Pelanggan\" WHERE status_sekarang = TRUE', engine_st)\n",
    "    except Exception as e:\n",
    "        # Handle jika tabel kosong atau belum ada\n",
    "        print(f\"Info: Tabel Dim_Pelanggan_lama kosong atau belum ada ({e}). Membuat DataFrame kosong.\")\n",
    "        dwh_df = pd.DataFrame(columns=['pelanggan_key', 'id_pelanggan', 'nama_lengkap', 'email', 'kota_asal', 'tanggal_mulai', 'tanggal_akhir', 'status_sekarang'])\n",
    "        \n",
    "    # T: Transform (Deteksi perubahan dan pembentukan record baru/expired)\n",
    "    merged_df = pd.merge(source_df, dwh_df, on='id_pelanggan', how='left', suffixes=('_new', '_old'), indicator=True)\n",
    "\n",
    "    new_records = merged_df[merged_df['_merge'] == 'left_only'].copy()\n",
    "    new_to_insert = new_records[['id_pelanggan', 'nama_lengkap_new', 'email_new', 'kota_asal_new']].copy()\n",
    "    new_to_insert.rename(columns={'nama_lengkap_new': 'nama_lengkap', 'email_new': 'email', 'kota_asal_new': 'kota_asal'}, inplace=True)\n",
    "    new_to_insert['tanggal_mulai'] = date.today()\n",
    "    new_to_insert['tanggal_akhir'] = '9999-12-31'\n",
    "    new_to_insert['status_sekarang'] = True\n",
    "\n",
    "    changed_df = merged_df[merged_df['_merge'] == 'both'].copy()\n",
    "    changed_df = changed_df[changed_df['kota_asal_new'] != changed_df['kota_asal_old']]\n",
    "    \n",
    "    keys_to_expire = changed_df['pelanggan_key'].astype(int).tolist() if not changed_df.empty else []\n",
    "\n",
    "    updates_as_new = changed_df[['id_pelanggan', 'nama_lengkap_new', 'email_new', 'kota_asal_new']].copy()\n",
    "    updates_as_new.rename(columns={'nama_lengkap_new': 'nama_lengkap', 'email_new': 'email', 'kota_asal_new': 'kota_asal'}, inplace=True)\n",
    "    updates_as_new['tanggal_mulai'] = date.today()\n",
    "    updates_as_new['tanggal_akhir'] = '9999-12-31'\n",
    "    updates_as_new['status_sekarang'] = True\n",
    "\n",
    "    records_to_insert = pd.concat([new_to_insert, updates_as_new], ignore_index=True)\n",
    "\n",
    "    # L: Load (Muat data ke Dim_Pelanggan di adventureworks_st)\n",
    "    with engine_st.connect() as connection:\n",
    "        if keys_to_expire:\n",
    "            print(f\"[L] Mengeksekusi UPDATE untuk {len(keys_to_expire)} record yang berubah (expire).\")\n",
    "            connection.execute(text(f\"\"\"\n",
    "                UPDATE \"Dim_Pelanggan\"\n",
    "                SET status_sekarang = FALSE, tanggal_akhir = '{date.today()}'\n",
    "                WHERE pelanggan_key IN ({','.join(map(str, keys_to_expire))})\n",
    "            \"\"\"))\n",
    "            connection.commit()\n",
    "        \n",
    "        if not records_to_insert.empty:\n",
    "            print(f\"[L] Mengeksekusi INSERT untuk {len(records_to_insert)} record baru/berubah.\")\n",
    "            records_to_insert.to_sql('Dim_Pelanggan', engine_st, if_exists='append', index=False, chunksize=1000)\n",
    "        else:\n",
    "            print(\"[L] Tidak ada record baru atau perubahan untuk di-INSERT.\")\n",
    "            \n",
    "    print(f\"✅ SUKSES! Proses SCD Tipe 2 untuk Dim_Pelanggan selesai. ({len(records_to_insert)} inserted, {len(keys_to_expire)} expired)\")"
   ]
  },
  {
   "cell_type": "markdown",
   "id": "9ead7898",
   "metadata": {},
   "source": [
    "Kode fungsi etl produk"
   ]
  },
  {
   "cell_type": "code",
   "execution_count": 57,
   "id": "9929a678",
   "metadata": {},
   "outputs": [],
   "source": [
    "def etl_dim_produk():\n",
    "    print(\"\\n--- Memulai ETL Dim_Produk ---\")\n",
    "    # E: Extract (Ingest data mentah produk dari CSV)\n",
    "    df = pd.read_csv(os.path.join('data_organized', 'csv', 'raw_produk.csv'), sep=',', header=None, skiprows=1, names=produk_cols)\n",
    "    \n",
    "    # T: Transform (Mengisi nilai kosong di kolom 'warna')\n",
    "    df['warna'].fillna('Tidak Berwarna', inplace=True)\n",
    "    \n",
    "    # L: Load (Muat data ke Dim_Produk di adventureworks_st)\n",
    "    df.to_sql('Dim_Produk', engine_st, if_exists='append', index=False, chunksize=1000)\n",
    "    print(f\"✅ SUKSES! {len(df)} baris dimuat ke Dim_Produk.\")"
   ]
  },
  {
   "cell_type": "markdown",
   "id": "75a543c9",
   "metadata": {},
   "source": [
    "Kode fungsi etl lokasi"
   ]
  },
  {
   "cell_type": "code",
   "execution_count": 58,
   "id": "0ee8fa45",
   "metadata": {},
   "outputs": [],
   "source": [
    "def etl_dim_lokasi():\n",
    "    print(\"\\n--- Memulai ETL Dim_Lokasi ---\")\n",
    "    # E: Extract (Ingest data mentah pelanggan dari CSV untuk mendapatkan kota_asal)\n",
    "    df = pd.read_csv(os.path.join('data_organized', 'csv', 'raw_pelanggan.csv'), sep=',', header=None, skiprows=1, names=pelanggan_cols)\n",
    "    \n",
    "    # T: Transform (Mengambil nilai unik dari kolom 'kota_asal' dan buang nilai NaN)\n",
    "    df_final = pd.DataFrame(df['kota_asal'].unique(), columns=['nama_kota']).dropna()\n",
    "    \n",
    "    # L: Load (Muat data ke Dim_Lokasi di adventureworks_st)\n",
    "    df_final.to_sql('Dim_Lokasi', engine_st, if_exists='append', index=False, chunksize=1000)\n",
    "    print(f\"✅ SUKSES! {len(df_final)} baris dimuat ke Dim_Lokasi.\")"
   ]
  },
  {
   "cell_type": "markdown",
   "id": "746634cd",
   "metadata": {},
   "source": [
    "Kode fungsi etl waktu"
   ]
  },
  {
   "cell_type": "code",
   "execution_count": 59,
   "id": "04702828",
   "metadata": {},
   "outputs": [],
   "source": [
    "def etl_dim_waktu():\n",
    "    print(\"\\n--- Memulai ETL Dim_Waktu ---\")\n",
    "    # E: Extract (Ingest data mentah penjualan dari CSV untuk mendapatkan rentang tanggal)\n",
    "    df = pd.read_csv(os.path.join('data_organized', 'csv', 'raw_penjualan.csv'), sep=',', header=None, skiprows=1, names=penjualan_cols)\n",
    "    df['tanggal_order'] = pd.to_datetime(df['tanggal_order'])\n",
    "    \n",
    "    # T: Transform (Membuat rentang tanggal unik dan atribut waktu)\n",
    "    date_range = pd.date_range(df['tanggal_order'].min(), df['tanggal_order'].max(), freq='D')\n",
    "    df_final = pd.DataFrame(date_range, columns=['tanggal'])\n",
    "    \n",
    "    df_final['id_waktu'] = df_final['tanggal'].dt.strftime('%Y%m%d').astype(int)\n",
    "    df_final['tahun'] = df_final['tanggal'].dt.year\n",
    "    df_final['kuartal'] = df_final['tanggal'].dt.quarter\n",
    "    df_final['bulan'] = df_final['tanggal'].dt.month\n",
    "    df_final['nama_bulan'] = df_final['tanggal'].dt.strftime('%B')\n",
    "    df_final['hari'] = df_final['tanggal'].dt.day\n",
    "    df_final['nama_hari'] = df_final['tanggal'].dt.strftime('%A')\n",
    "    \n",
    "    # L: Load (Muat data ke Dim_Waktu di adventureworks_st)\n",
    "    df_final.to_sql('Dim_Waktu', engine_st, if_exists='append', index=False, chunksize=1000)\n",
    "    print(f\"✅ SUKSES! {len(df_final)} baris dimuat ke Dim_Waktu.\")"
   ]
  },
  {
   "cell_type": "markdown",
   "id": "a55838c0",
   "metadata": {},
   "source": [
    "Kode fungsi etl pdf"
   ]
  },
  {
   "cell_type": "code",
   "execution_count": 60,
   "id": "ed5998e1",
   "metadata": {},
   "outputs": [],
   "source": [
    "def etl_pdf_to_staging():\n",
    "    print(\"\\n--- Memulai ETL untuk file PDF ---\")\n",
    "    \n",
    "    # Tentukan path folder PDF\n",
    "    pdf_folder = os.path.join('data_organized', 'pdf')\n",
    "    \n",
    "    # List kosong untuk menampung hasil ekstraksi\n",
    "    hasil_ekstraksi = []\n",
    "    \n",
    "    try:\n",
    "        # Loop melalui semua file di dalam folder pdf\n",
    "        for filename in os.listdir(pdf_folder):\n",
    "            if filename.lower().endswith('.pdf'):\n",
    "                print(f\"  -> Memproses file: {filename}...\")\n",
    "                file_path = os.path.join(pdf_folder, filename)\n",
    "                \n",
    "                text = \"\"\n",
    "                # Buka dan baca file PDF\n",
    "                with open(file_path, 'rb') as file:\n",
    "                    reader = PyPDF2.PdfReader(file)\n",
    "                    for page in reader.pages:\n",
    "                        text += page.extract_text() + \"\\n\" # Tambah baris baru antar halaman\n",
    "                \n",
    "                # Tambahkan hasil ke list\n",
    "                hasil_ekstraksi.append({\n",
    "                    'nama_file': filename,\n",
    "                    'isi_teks': text\n",
    "                })\n",
    "        \n",
    "        if not hasil_ekstraksi:\n",
    "            print(\"⚠️ Tidak ada file PDF yang ditemukan untuk diproses.\")\n",
    "            return\n",
    "\n",
    "        # Transformasi: Ubah list menjadi DataFrame dan tambahkan timestamp\n",
    "        df_pdf = pd.DataFrame(hasil_ekstraksi)\n",
    "        df_pdf['tgl_ekstrak'] = datetime.now()\n",
    "        \n",
    "        # Load: Masukkan data ke tabel stg_dokumen_pdf\n",
    "        target_table_name = 'stg_dokumen_pdf'\n",
    "        print(f\"   -> Memuat {len(df_pdf)} dokumen ke tabel '{target_table_name}'...\")\n",
    "        \n",
    "        # Kita pakai 'replace' untuk staging, agar setiap run hasilnya fresh\n",
    "        df_pdf.to_sql(target_table_name, engine_st, if_exists='replace', index=False)\n",
    "\n",
    "        print(f\"✅ SUKSES! ETL untuk PDF selesai.\")\n",
    "\n",
    "    except Exception as e:\n",
    "        print(f\"❌ GAGAL! Terjadi error saat proses ETL PDF: {e}\")"
   ]
  },
  {
   "cell_type": "markdown",
   "id": "97a5b05f",
   "metadata": {},
   "source": [
    "Kode fungsi etl txt"
   ]
  },
  {
   "cell_type": "code",
   "execution_count": 61,
   "id": "f3795597",
   "metadata": {},
   "outputs": [],
   "source": [
    "def etl_txt_to_staging():\n",
    "    print(\"\\n--- Memulai ETL TXT dengan ID Pelanggan ---\")\n",
    "    \n",
    "    txt_folder = os.path.join('data_organized', 'txt')\n",
    "    hasil_analisis = []\n",
    "    \n",
    "    try:\n",
    "        # Langkah Baru 1: Ambil daftar ID pelanggan asli dari DWH\n",
    "        print(\"  -> Mengambil daftar ID pelanggan dari Dim_Pelanggan...\")\n",
    "        list_id_pelanggan = pd.read_sql_query('SELECT id_pelanggan FROM \"Dim_Pelanggan\"', engine_st)['id_pelanggan'].tolist()\n",
    "        \n",
    "        if not list_id_pelanggan:\n",
    "            print(\"⚠️ GAGAL! Tidak ada data pelanggan di Dim_Pelanggan untuk dijadikan referensi.\")\n",
    "            return\n",
    "\n",
    "        print(f\"  -> Ditemukan {len(list_id_pelanggan)} ID pelanggan.\")\n",
    "\n",
    "        # Loop melalui file TXT\n",
    "        for filename in os.listdir(txt_folder):\n",
    "            if filename.lower().endswith('.txt'):\n",
    "                print(f\"  -> Menganalisis file: {filename}...\")\n",
    "                file_path = os.path.join(txt_folder, filename)\n",
    "                \n",
    "                with open(file_path, 'r', encoding='utf-8') as file:\n",
    "                    text = file.read()\n",
    "                \n",
    "                blob = TextBlob(text)\n",
    "                \n",
    "                # Langkah Baru 2: Pilih ID pelanggan secara acak dan tempelkan\n",
    "                random_customer_id = random.choice(list_id_pelanggan)\n",
    "                \n",
    "                hasil_analisis.append({\n",
    "                    'id_pelanggan': random_customer_id, # <-- KOLOM BARU\n",
    "                    'nama_file': filename,\n",
    "                    'isi_tweet': text,\n",
    "                    'polarity': blob.sentiment.polarity,\n",
    "                    'subjectivity': blob.sentiment.subjectivity\n",
    "                })\n",
    "        \n",
    "        # ... (Sisa prosesnya sama)\n",
    "        df_txt = pd.DataFrame(hasil_analisis)\n",
    "        df_txt['tgl_ekstrak'] = datetime.now()\n",
    "        \n",
    "        target_table_name = 'stg_analisis_sentimen'\n",
    "        \n",
    "        # Kita perlu pastikan tabelnya bisa menampung kolom baru\n",
    "        # Cara paling aman adalah dengan 'replace' karena ini tabel staging\n",
    "        print(f\"   -> Memuat {len(df_txt)} hasil analisis ke tabel '{target_table_name}'...\")\n",
    "        df_txt.to_sql(target_table_name, engine_st, if_exists='replace', index=False)\n",
    "\n",
    "        print(f\"✅ SUKSES! ETL untuk TXT dengan ID pelanggan selesai.\")\n",
    "\n",
    "    except Exception as e:\n",
    "        print(f\"❌ GAGAL! Terjadi error saat proses ETL TXT: {e}\")"
   ]
  },
  {
   "cell_type": "markdown",
   "id": "a37c706b",
   "metadata": {},
   "source": [
    "Kode fungsi etl fakta"
   ]
  },
  {
   "cell_type": "code",
   "execution_count": 62,
   "id": "976edc4b",
   "metadata": {},
   "outputs": [],
   "source": [
    "# Di dalam [CELL 2] - Kumpulan Fungsi ETL\n",
    "# Ganti fungsi etl_fakta_penjualan yang lama dengan ini:\n",
    "\n",
    "def etl_fakta_penjualan():\n",
    "    print(\"\\n--- Memulai ETL FINAL Fakta_Penjualan (dengan Surrogate Key Lookup) ---\")\n",
    "    \n",
    "    try:\n",
    "        # --- EXTRACT ---\n",
    "        print(\"   -> [E] Mengekstrak data penjualan mentah, Dim_Pelanggan, dan Dim_Lokasi...\")\n",
    "        # Baca data penjualan mentah\n",
    "        df_penjualan = pd.read_csv(os.path.join(RAW_DATA_PATH, 'raw_penjualan.csv'), sep=',', header=None, skiprows=1, names=penjualan_cols)\n",
    "        \n",
    "        # Baca tabel dimensi yang sudah jadi dari DWH untuk lookup\n",
    "        df_dim_pelanggan = pd.read_sql_table('Dim_Pelanggan', engine_st)\n",
    "        df_dim_lokasi = pd.read_sql_table('Dim_Lokasi', engine_st)\n",
    "        print(\"      -> Data sumber berhasil dibaca.\")\n",
    "\n",
    "        # --- TRANSFORM ---\n",
    "        print(\"   -> [T] Melakukan transformasi dan lookup surrogate key...\")\n",
    "        \n",
    "        # 1. Konversi tipe data tanggal agar bisa dibandingkan\n",
    "        df_penjualan['tanggal_order'] = pd.to_datetime(df_penjualan['tanggal_order'])\n",
    "        df_dim_pelanggan['tanggal_mulai'] = pd.to_datetime(df_dim_pelanggan['tanggal_mulai'])\n",
    "        df_dim_pelanggan['tanggal_akhir'] = pd.to_datetime(df_dim_pelanggan['tanggal_akhir'])\n",
    "        df_penjualan['id_waktu'] = df_penjualan['tanggal_order'].dt.strftime('%Y%m%d').astype(int)\n",
    "\n",
    "        # 2. Lakukan penggabungan (merge) antara data penjualan dan SEMUA riwayat pelanggan\n",
    "        # Ini akan membuat setiap penjualan terhubung dengan semua kemungkinan versi historis pelanggannya\n",
    "        df_merged = pd.merge(df_penjualan, df_dim_pelanggan, on='id_pelanggan', how='left')\n",
    "        \n",
    "        # 3. Filter untuk mendapatkan record dimensi yang TEPAT (yang aktif saat transaksi terjadi)\n",
    "        # Ini adalah logika inti dari lookup ke dimensi SCD Tipe 2\n",
    "        df_valid_facts = df_merged[\n",
    "            (df_merged['tanggal_order'] >= df_merged['tanggal_mulai']) & \n",
    "            (df_merged['tanggal_order'] <= df_merged['tanggal_akhir'])\n",
    "        ].copy()\n",
    "        print(\"      -> Berhasil menemukan pelanggan_key yang sesuai untuk setiap transaksi.\")\n",
    "\n",
    "        # 4. Lakukan join dengan Dim_Lokasi untuk mendapatkan id_lokasi\n",
    "        df_final = pd.merge(df_valid_facts, df_dim_lokasi, left_on='kota_asal', right_on='nama_kota', how='left')\n",
    "        \n",
    "        # 5. Pilih kolom final sesuai struktur tabel baru\n",
    "        kolom_final = [\n",
    "            'id_order_detail', \n",
    "            'id_order', \n",
    "            'pelanggan_key', # <-- MENGGUNAKAN surrogate key\n",
    "            'id_produk', \n",
    "            'id_waktu', \n",
    "            'id_lokasi', \n",
    "            'jumlah_barang', \n",
    "            'harga_satuan', \n",
    "            'total_harga'\n",
    "        ]\n",
    "        df_final = df_final[kolom_final]\n",
    "\n",
    "        # 6. Jaring pengaman terakhir untuk duplikasi\n",
    "        df_final.drop_duplicates(subset=['id_order_detail'], keep='first', inplace=True)\n",
    "\n",
    "        # --- LOAD ---\n",
    "        print(f\"   -> [L] Memuat {len(df_final)} baris data ke Fakta_Penjualan...\")\n",
    "        df_final.to_sql('Fakta_Penjualan', engine_st, if_exists='append', index=False, chunksize=1000)\n",
    "        \n",
    "        print(\"\\n✅ Proses ETL untuk Fakta_Penjualan selesai! Relasi seharusnya sudah sempurna.\")\n",
    "\n",
    "    except Exception as e:\n",
    "        print(f\"❌ GAGAL! Terjadi error saat ETL Fakta Penjualan: {e}\")"
   ]
  },
  {
   "cell_type": "markdown",
   "id": "455e7b55",
   "metadata": {},
   "source": [
    "#### Status Fungsi ETL"
   ]
  },
  {
   "cell_type": "code",
   "execution_count": 63,
   "id": "861df416",
   "metadata": {},
   "outputs": [
    {
     "name": "stdout",
     "output_type": "stream",
     "text": [
      "✅ Semua fungsi ETL berhasil didefinisikan.\n"
     ]
    }
   ],
   "source": [
    "print(\"✅ Semua fungsi ETL berhasil didefinisikan.\")"
   ]
  },
  {
   "cell_type": "markdown",
   "id": "39096e0c",
   "metadata": {},
   "source": [
    "### Eksekusi Pipeline Utama"
   ]
  },
  {
   "cell_type": "code",
   "execution_count": null,
   "id": "413aeac1",
   "metadata": {},
   "outputs": [
    {
     "name": "stdout",
     "output_type": "stream",
     "text": [
      "\n",
      "\n",
      "===== MEMULAI PIPELINE ETL LENGKAP =====\n",
      "\n",
      "--- Memulai Proses Sortir File Mentah ---\n",
      "  -> File 'Laporan Penjualan Q1 2025.pdf' disalin ke 'data_organized\\pdf'\n",
      "  -> File 'raw_pelanggan.csv' disalin ke 'data_organized\\csv'\n",
      "  -> File 'raw_penjualan.csv' disalin ke 'data_organized\\csv'\n",
      "  -> File 'raw_produk.csv' disalin ke 'data_organized\\csv'\n",
      "  -> File 'tweet-1.txt' disalin ke 'data_organized\\txt'\n",
      "  -> File 'tweet-10.txt' disalin ke 'data_organized\\txt'\n",
      "  -> File 'tweet-11.txt' disalin ke 'data_organized\\txt'\n",
      "  -> File 'tweet-12.txt' disalin ke 'data_organized\\txt'\n",
      "  -> File 'tweet-13.txt' disalin ke 'data_organized\\txt'\n",
      "  -> File 'tweet-14.txt' disalin ke 'data_organized\\txt'\n",
      "  -> File 'tweet-15.txt' disalin ke 'data_organized\\txt'\n",
      "  -> File 'tweet-16.txt' disalin ke 'data_organized\\txt'\n",
      "  -> File 'tweet-17.txt' disalin ke 'data_organized\\txt'\n",
      "  -> File 'tweet-18.txt' disalin ke 'data_organized\\txt'\n",
      "  -> File 'tweet-19.txt' disalin ke 'data_organized\\txt'\n",
      "  -> File 'tweet-2.txt' disalin ke 'data_organized\\txt'\n",
      "  -> File 'tweet-20.txt' disalin ke 'data_organized\\txt'\n",
      "  -> File 'tweet-3.txt' disalin ke 'data_organized\\txt'\n",
      "  -> File 'tweet-4.txt' disalin ke 'data_organized\\txt'\n",
      "  -> File 'tweet-5.txt' disalin ke 'data_organized\\txt'\n",
      "  -> File 'tweet-6.txt' disalin ke 'data_organized\\txt'\n",
      "  -> File 'tweet-7.txt' disalin ke 'data_organized\\txt'\n",
      "  -> File 'tweet-8.txt' disalin ke 'data_organized\\txt'\n",
      "  -> File 'tweet-9.txt' disalin ke 'data_organized\\txt'\n",
      "✅ Proses Sortir File Selesai.\n",
      "\n",
      "--- MERESET SEMUA TABEL DI DATA WAREHOUSE INTI (adventureworks_st) ---\n",
      "✅ Semua tabel di adventureworks_st berhasil dikosongkan.\n",
      "\n",
      "\n",
      "===== PIPELINE ETL SELESAI DENGAN SUKSES! =====\n"
     ]
    }
   ],
   "source": [
    "try:\n",
    "    print(\"\\n\\n===== MEMULAI PIPELINE ETL LENGKAP =====\")\n",
    "    \n",
    "    # 0. Sortir file mentah\n",
    "    sortir_file_mentah()\n",
    "    \n",
    "    # 1. Kosongkan semua tabel DWH\n",
    "    reset_all_tables_dwh_staging()\n",
    "    \n",
    "    # 2. Bangun Dimensi Utama dulu\n",
    "    etl_dim_produk()\n",
    "    etl_dim_waktu()\n",
    "    # PENTING: Pelanggan dijalankan dulu karena jadi referensi untuk lokasi dan txt\n",
    "    etl_dim_pelanggan_scd2() \n",
    "    etl_dim_lokasi()\n",
    "\n",
    "    # 3. Proses data tidak terstruktur ke staging\n",
    "    etl_pdf_to_staging()\n",
    "    etl_txt_to_staging()\n",
    "\n",
    "    # 4. Bangun Tabel Fakta (setelah semua dimensi siap)\n",
    "    etl_fakta_penjualan()\n",
    "    \n",
    "    print(\"\\n\\n===== PIPELINE ETL SELESAI DENGAN SUKSES! =====\")\n",
    "\n",
    "except Exception as e:\n",
    "    print(f\"\\n❌ GAGAL! Error saat eksekusi pipeline: {e}\")"
   ]
  },
  {
   "cell_type": "markdown",
   "id": "73518d2f",
   "metadata": {},
   "source": [
    "### Analyze (Analisis Data dari Data Staging Area)"
   ]
  },
  {
   "cell_type": "markdown",
   "id": "f9d6b25f",
   "metadata": {},
   "source": [
    "#### Analisis 1: Total Penjualan per Kategori Produk"
   ]
  },
  {
   "cell_type": "markdown",
   "id": "80067477",
   "metadata": {},
   "source": [
    "Query ini akan menghitung total penjualan untuk setiap kategori produk dari `Fakta_Penjualan` dan `Dim_Produk`"
   ]
  },
  {
   "cell_type": "code",
   "execution_count": 65,
   "id": "c043d5cd",
   "metadata": {},
   "outputs": [
    {
     "name": "stdout",
     "output_type": "stream",
     "text": [
      "\n",
      "\n",
      "--- Memulai Analisis 1: Total Penjualan per Kategori Produk ---\n",
      "Menjalankan query analisis penjualan per kategori dari adventureworks_st...\n",
      "✅ Query berhasil dieksekusi! Hasil analisis:\n",
      "\n"
     ]
    },
    {
     "data": {
      "text/html": [
       "<div>\n",
       "<style scoped>\n",
       "    .dataframe tbody tr th:only-of-type {\n",
       "        vertical-align: middle;\n",
       "    }\n",
       "\n",
       "    .dataframe tbody tr th {\n",
       "        vertical-align: top;\n",
       "    }\n",
       "\n",
       "    .dataframe thead th {\n",
       "        text-align: right;\n",
       "    }\n",
       "</style>\n",
       "<table border=\"1\" class=\"dataframe\">\n",
       "  <thead>\n",
       "    <tr style=\"text-align: right;\">\n",
       "      <th></th>\n",
       "      <th>kategori</th>\n",
       "      <th>total_penjualan</th>\n",
       "    </tr>\n",
       "  </thead>\n",
       "  <tbody>\n",
       "  </tbody>\n",
       "</table>\n",
       "</div>"
      ],
      "text/plain": [
       "Empty DataFrame\n",
       "Columns: [kategori, total_penjualan]\n",
       "Index: []"
      ]
     },
     "metadata": {},
     "output_type": "display_data"
    }
   ],
   "source": [
    "print(\"\\n\\n--- Memulai Analisis 1: Total Penjualan per Kategori Produk ---\")\n",
    "print(\"Menjalankan query analisis penjualan per kategori dari adventureworks_st...\")\n",
    "\n",
    "query_kategori = \"\"\"\n",
    "SELECT dp.kategori, SUM(fp.total_harga) AS total_penjualan\n",
    "FROM \"Fakta_Penjualan\" fp\n",
    "JOIN \"Dim_Produk\" dp ON fp.id_produk = dp.id_produk\n",
    "GROUP BY dp.kategori\n",
    "ORDER BY total_penjualan DESC;\n",
    "\"\"\"\n",
    "df_kategori = pd.read_sql_query(query_kategori, engine_st)\n",
    "print(\"✅ Query berhasil dieksekusi! Hasil analisis:\\n\")\n",
    "display(df_kategori)"
   ]
  },
  {
   "cell_type": "markdown",
   "id": "bffb1bcb",
   "metadata": {},
   "source": [
    "#### Analisis 2: Tren Penjualan Bulanan"
   ]
  },
  {
   "cell_type": "markdown",
   "id": "f0f05cf8",
   "metadata": {},
   "source": [
    "Query ini akan menghitung total penjualan per bulan untuk melihat tren penjualan dari waktu ke waktu"
   ]
  },
  {
   "cell_type": "code",
   "execution_count": 66,
   "id": "188dacf1",
   "metadata": {},
   "outputs": [
    {
     "name": "stdout",
     "output_type": "stream",
     "text": [
      "\n",
      "\n",
      "--- Memulai Analisis 2: Tren Penjualan Bulanan ---\n",
      "Menjalankan query analisis tren penjualan bulanan dari adventureworks_st...\n",
      "✅ Query tren penjualan berhasil dieksekusi! Hasil analisis:\n",
      "\n"
     ]
    },
    {
     "data": {
      "text/html": [
       "<div>\n",
       "<style scoped>\n",
       "    .dataframe tbody tr th:only-of-type {\n",
       "        vertical-align: middle;\n",
       "    }\n",
       "\n",
       "    .dataframe tbody tr th {\n",
       "        vertical-align: top;\n",
       "    }\n",
       "\n",
       "    .dataframe thead th {\n",
       "        text-align: right;\n",
       "    }\n",
       "</style>\n",
       "<table border=\"1\" class=\"dataframe\">\n",
       "  <thead>\n",
       "    <tr style=\"text-align: right;\">\n",
       "      <th></th>\n",
       "      <th>tahun</th>\n",
       "      <th>bulan</th>\n",
       "      <th>periode</th>\n",
       "      <th>total_penjualan</th>\n",
       "    </tr>\n",
       "  </thead>\n",
       "  <tbody>\n",
       "  </tbody>\n",
       "</table>\n",
       "</div>"
      ],
      "text/plain": [
       "Empty DataFrame\n",
       "Columns: [tahun, bulan, periode, total_penjualan]\n",
       "Index: []"
      ]
     },
     "metadata": {},
     "output_type": "display_data"
    }
   ],
   "source": [
    "print(\"\\n\\n--- Memulai Analisis 2: Tren Penjualan Bulanan ---\")\n",
    "print(\"Menjalankan query analisis tren penjualan bulanan dari adventureworks_st...\")\n",
    "\n",
    "query_tren = \"\"\"\n",
    "SELECT w.tahun, w.bulan, TO_DATE(w.tahun || '-' || w.bulan, 'YYYY-MM') AS periode, SUM(fp.total_harga) AS total_penjualan\n",
    "FROM \"Fakta_Penjualan\" fp\n",
    "JOIN \"Dim_Waktu\" w ON fp.id_waktu = w.id_waktu\n",
    "GROUP BY w.tahun, w.bulan\n",
    "ORDER BY w.tahun, w.bulan;\n",
    "\"\"\"\n",
    "df_tren = pd.read_sql_query(query_tren, engine_st)\n",
    "print(\"✅ Query tren penjualan berhasil dieksekusi! Hasil analisis:\\n\")\n",
    "display(df_tren)"
   ]
  },
  {
   "cell_type": "markdown",
   "id": "2bc0dfe8",
   "metadata": {},
   "source": [
    "#### Analisis 3: Top 10 Pelanggan dengan Total Belanja Terbanyak"
   ]
  },
  {
   "cell_type": "markdown",
   "id": "ee2a12a6",
   "metadata": {},
   "source": [
    "Query ini akan mengidentifikasi 10 pelanggan teratas berdasarkan total belanja mereka, dengan mempertimbangkan status aktif pelanggan (pentingnya SCD Tipe 2)"
   ]
  },
  {
   "cell_type": "code",
   "execution_count": 67,
   "id": "745298d1",
   "metadata": {},
   "outputs": [
    {
     "name": "stdout",
     "output_type": "stream",
     "text": [
      "\n",
      "\n",
      "--- Memulai Analisis 3: Top 10 Pelanggan ---\n",
      "Menjalankan query analisis top 10 pelanggan dari adventureworks_st...\n"
     ]
    },
    {
     "ename": "ProgrammingError",
     "evalue": "(psycopg2.errors.UndefinedColumn) column fp.id_pelanggan does not exist\nLINE 6: JOIN \"Dim_Pelanggan\" p ON fp.id_pelanggan = p.id_pelanggan\n                                  ^\nHINT:  Perhaps you meant to reference the column \"p.id_pelanggan\".\n\n[SQL: \nSELECT\n    p.nama_lengkap,\n    SUM(fp.total_harga) AS total_belanja\nFROM \"Fakta_Penjualan\" fp\nJOIN \"Dim_Pelanggan\" p ON fp.id_pelanggan = p.id_pelanggan\nWHERE\n    p.status_sekarang = TRUE -- Penting: Hanya ambil pelanggan yang statusnya TRUE (aktif)\nGROUP BY\n    p.nama_lengkap\nORDER BY\n    total_belanja DESC\nLIMIT 10;\n]\n(Background on this error at: https://sqlalche.me/e/20/f405)",
     "output_type": "error",
     "traceback": [
      "\u001b[31m---------------------------------------------------------------------------\u001b[39m",
      "\u001b[31mUndefinedColumn\u001b[39m                           Traceback (most recent call last)",
      "\u001b[36mFile \u001b[39m\u001b[32mc:\\Users\\Pongo\\AppData\\Local\\Programs\\Python\\Python312\\Lib\\site-packages\\sqlalchemy\\engine\\base.py:1964\u001b[39m, in \u001b[36mConnection._exec_single_context\u001b[39m\u001b[34m(self, dialect, context, statement, parameters)\u001b[39m\n\u001b[32m   1963\u001b[39m     \u001b[38;5;28;01mif\u001b[39;00m \u001b[38;5;129;01mnot\u001b[39;00m evt_handled:\n\u001b[32m-> \u001b[39m\u001b[32m1964\u001b[39m         \u001b[38;5;28;43mself\u001b[39;49m\u001b[43m.\u001b[49m\u001b[43mdialect\u001b[49m\u001b[43m.\u001b[49m\u001b[43mdo_execute\u001b[49m\u001b[43m(\u001b[49m\n\u001b[32m   1965\u001b[39m \u001b[43m            \u001b[49m\u001b[43mcursor\u001b[49m\u001b[43m,\u001b[49m\u001b[43m \u001b[49m\u001b[43mstr_statement\u001b[49m\u001b[43m,\u001b[49m\u001b[43m \u001b[49m\u001b[43meffective_parameters\u001b[49m\u001b[43m,\u001b[49m\u001b[43m \u001b[49m\u001b[43mcontext\u001b[49m\n\u001b[32m   1966\u001b[39m \u001b[43m        \u001b[49m\u001b[43m)\u001b[49m\n\u001b[32m   1968\u001b[39m \u001b[38;5;28;01mif\u001b[39;00m \u001b[38;5;28mself\u001b[39m._has_events \u001b[38;5;129;01mor\u001b[39;00m \u001b[38;5;28mself\u001b[39m.engine._has_events:\n",
      "\u001b[36mFile \u001b[39m\u001b[32mc:\\Users\\Pongo\\AppData\\Local\\Programs\\Python\\Python312\\Lib\\site-packages\\sqlalchemy\\engine\\default.py:945\u001b[39m, in \u001b[36mDefaultDialect.do_execute\u001b[39m\u001b[34m(self, cursor, statement, parameters, context)\u001b[39m\n\u001b[32m    944\u001b[39m \u001b[38;5;28;01mdef\u001b[39;00m\u001b[38;5;250m \u001b[39m\u001b[34mdo_execute\u001b[39m(\u001b[38;5;28mself\u001b[39m, cursor, statement, parameters, context=\u001b[38;5;28;01mNone\u001b[39;00m):\n\u001b[32m--> \u001b[39m\u001b[32m945\u001b[39m     \u001b[43mcursor\u001b[49m\u001b[43m.\u001b[49m\u001b[43mexecute\u001b[49m\u001b[43m(\u001b[49m\u001b[43mstatement\u001b[49m\u001b[43m,\u001b[49m\u001b[43m \u001b[49m\u001b[43mparameters\u001b[49m\u001b[43m)\u001b[49m\n",
      "\u001b[31mUndefinedColumn\u001b[39m: column fp.id_pelanggan does not exist\nLINE 6: JOIN \"Dim_Pelanggan\" p ON fp.id_pelanggan = p.id_pelanggan\n                                  ^\nHINT:  Perhaps you meant to reference the column \"p.id_pelanggan\".\n",
      "\nThe above exception was the direct cause of the following exception:\n",
      "\u001b[31mProgrammingError\u001b[39m                          Traceback (most recent call last)",
      "\u001b[36mCell\u001b[39m\u001b[36m \u001b[39m\u001b[32mIn[67]\u001b[39m\u001b[32m, line 18\u001b[39m\n\u001b[32m      2\u001b[39m \u001b[38;5;28mprint\u001b[39m(\u001b[33m\"\u001b[39m\u001b[33mMenjalankan query analisis top 10 pelanggan dari adventureworks_st...\u001b[39m\u001b[33m\"\u001b[39m)\n\u001b[32m      4\u001b[39m query_top_cust = \u001b[33m\"\"\"\u001b[39m\n\u001b[32m      5\u001b[39m \u001b[33mSELECT\u001b[39m\n\u001b[32m      6\u001b[39m \u001b[33m    p.nama_lengkap,\u001b[39m\n\u001b[32m   (...)\u001b[39m\u001b[32m     16\u001b[39m \u001b[33mLIMIT 10;\u001b[39m\n\u001b[32m     17\u001b[39m \u001b[33m\"\"\"\u001b[39m\n\u001b[32m---> \u001b[39m\u001b[32m18\u001b[39m df_top_cust = \u001b[43mpd\u001b[49m\u001b[43m.\u001b[49m\u001b[43mread_sql_query\u001b[49m\u001b[43m(\u001b[49m\u001b[43mquery_top_cust\u001b[49m\u001b[43m,\u001b[49m\u001b[43m \u001b[49m\u001b[43mengine_st\u001b[49m\u001b[43m)\u001b[49m\n\u001b[32m     19\u001b[39m \u001b[38;5;28mprint\u001b[39m(\u001b[33m\"\u001b[39m\u001b[33m✅ Query top 10 pelanggan berhasil dieksekusi! Hasil analisis:\u001b[39m\u001b[38;5;130;01m\\n\u001b[39;00m\u001b[33m\"\u001b[39m)\n\u001b[32m     20\u001b[39m display(df_top_cust)\n",
      "\u001b[36mFile \u001b[39m\u001b[32mc:\\Users\\Pongo\\AppData\\Local\\Programs\\Python\\Python312\\Lib\\site-packages\\pandas\\io\\sql.py:526\u001b[39m, in \u001b[36mread_sql_query\u001b[39m\u001b[34m(sql, con, index_col, coerce_float, params, parse_dates, chunksize, dtype, dtype_backend)\u001b[39m\n\u001b[32m    523\u001b[39m \u001b[38;5;28;01massert\u001b[39;00m dtype_backend \u001b[38;5;129;01mis\u001b[39;00m \u001b[38;5;129;01mnot\u001b[39;00m lib.no_default\n\u001b[32m    525\u001b[39m \u001b[38;5;28;01mwith\u001b[39;00m pandasSQL_builder(con) \u001b[38;5;28;01mas\u001b[39;00m pandas_sql:\n\u001b[32m--> \u001b[39m\u001b[32m526\u001b[39m     \u001b[38;5;28;01mreturn\u001b[39;00m \u001b[43mpandas_sql\u001b[49m\u001b[43m.\u001b[49m\u001b[43mread_query\u001b[49m\u001b[43m(\u001b[49m\n\u001b[32m    527\u001b[39m \u001b[43m        \u001b[49m\u001b[43msql\u001b[49m\u001b[43m,\u001b[49m\n\u001b[32m    528\u001b[39m \u001b[43m        \u001b[49m\u001b[43mindex_col\u001b[49m\u001b[43m=\u001b[49m\u001b[43mindex_col\u001b[49m\u001b[43m,\u001b[49m\n\u001b[32m    529\u001b[39m \u001b[43m        \u001b[49m\u001b[43mparams\u001b[49m\u001b[43m=\u001b[49m\u001b[43mparams\u001b[49m\u001b[43m,\u001b[49m\n\u001b[32m    530\u001b[39m \u001b[43m        \u001b[49m\u001b[43mcoerce_float\u001b[49m\u001b[43m=\u001b[49m\u001b[43mcoerce_float\u001b[49m\u001b[43m,\u001b[49m\n\u001b[32m    531\u001b[39m \u001b[43m        \u001b[49m\u001b[43mparse_dates\u001b[49m\u001b[43m=\u001b[49m\u001b[43mparse_dates\u001b[49m\u001b[43m,\u001b[49m\n\u001b[32m    532\u001b[39m \u001b[43m        \u001b[49m\u001b[43mchunksize\u001b[49m\u001b[43m=\u001b[49m\u001b[43mchunksize\u001b[49m\u001b[43m,\u001b[49m\n\u001b[32m    533\u001b[39m \u001b[43m        \u001b[49m\u001b[43mdtype\u001b[49m\u001b[43m=\u001b[49m\u001b[43mdtype\u001b[49m\u001b[43m,\u001b[49m\n\u001b[32m    534\u001b[39m \u001b[43m        \u001b[49m\u001b[43mdtype_backend\u001b[49m\u001b[43m=\u001b[49m\u001b[43mdtype_backend\u001b[49m\u001b[43m,\u001b[49m\n\u001b[32m    535\u001b[39m \u001b[43m    \u001b[49m\u001b[43m)\u001b[49m\n",
      "\u001b[36mFile \u001b[39m\u001b[32mc:\\Users\\Pongo\\AppData\\Local\\Programs\\Python\\Python312\\Lib\\site-packages\\pandas\\io\\sql.py:1836\u001b[39m, in \u001b[36mSQLDatabase.read_query\u001b[39m\u001b[34m(self, sql, index_col, coerce_float, parse_dates, params, chunksize, dtype, dtype_backend)\u001b[39m\n\u001b[32m   1779\u001b[39m \u001b[38;5;28;01mdef\u001b[39;00m\u001b[38;5;250m \u001b[39m\u001b[34mread_query\u001b[39m(\n\u001b[32m   1780\u001b[39m     \u001b[38;5;28mself\u001b[39m,\n\u001b[32m   1781\u001b[39m     sql: \u001b[38;5;28mstr\u001b[39m,\n\u001b[32m   (...)\u001b[39m\u001b[32m   1788\u001b[39m     dtype_backend: DtypeBackend | Literal[\u001b[33m\"\u001b[39m\u001b[33mnumpy\u001b[39m\u001b[33m\"\u001b[39m] = \u001b[33m\"\u001b[39m\u001b[33mnumpy\u001b[39m\u001b[33m\"\u001b[39m,\n\u001b[32m   1789\u001b[39m ) -> DataFrame | Iterator[DataFrame]:\n\u001b[32m   1790\u001b[39m \u001b[38;5;250m    \u001b[39m\u001b[33;03m\"\"\"\u001b[39;00m\n\u001b[32m   1791\u001b[39m \u001b[33;03m    Read SQL query into a DataFrame.\u001b[39;00m\n\u001b[32m   1792\u001b[39m \n\u001b[32m   (...)\u001b[39m\u001b[32m   1834\u001b[39m \n\u001b[32m   1835\u001b[39m \u001b[33;03m    \"\"\"\u001b[39;00m\n\u001b[32m-> \u001b[39m\u001b[32m1836\u001b[39m     result = \u001b[38;5;28;43mself\u001b[39;49m\u001b[43m.\u001b[49m\u001b[43mexecute\u001b[49m\u001b[43m(\u001b[49m\u001b[43msql\u001b[49m\u001b[43m,\u001b[49m\u001b[43m \u001b[49m\u001b[43mparams\u001b[49m\u001b[43m)\u001b[49m\n\u001b[32m   1837\u001b[39m     columns = result.keys()\n\u001b[32m   1839\u001b[39m     \u001b[38;5;28;01mif\u001b[39;00m chunksize \u001b[38;5;129;01mis\u001b[39;00m \u001b[38;5;129;01mnot\u001b[39;00m \u001b[38;5;28;01mNone\u001b[39;00m:\n",
      "\u001b[36mFile \u001b[39m\u001b[32mc:\\Users\\Pongo\\AppData\\Local\\Programs\\Python\\Python312\\Lib\\site-packages\\pandas\\io\\sql.py:1659\u001b[39m, in \u001b[36mSQLDatabase.execute\u001b[39m\u001b[34m(self, sql, params)\u001b[39m\n\u001b[32m   1657\u001b[39m args = [] \u001b[38;5;28;01mif\u001b[39;00m params \u001b[38;5;129;01mis\u001b[39;00m \u001b[38;5;28;01mNone\u001b[39;00m \u001b[38;5;28;01melse\u001b[39;00m [params]\n\u001b[32m   1658\u001b[39m \u001b[38;5;28;01mif\u001b[39;00m \u001b[38;5;28misinstance\u001b[39m(sql, \u001b[38;5;28mstr\u001b[39m):\n\u001b[32m-> \u001b[39m\u001b[32m1659\u001b[39m     \u001b[38;5;28;01mreturn\u001b[39;00m \u001b[38;5;28;43mself\u001b[39;49m\u001b[43m.\u001b[49m\u001b[43mcon\u001b[49m\u001b[43m.\u001b[49m\u001b[43mexec_driver_sql\u001b[49m\u001b[43m(\u001b[49m\u001b[43msql\u001b[49m\u001b[43m,\u001b[49m\u001b[43m \u001b[49m\u001b[43m*\u001b[49m\u001b[43margs\u001b[49m\u001b[43m)\u001b[49m\n\u001b[32m   1660\u001b[39m \u001b[38;5;28;01mreturn\u001b[39;00m \u001b[38;5;28mself\u001b[39m.con.execute(sql, *args)\n",
      "\u001b[36mFile \u001b[39m\u001b[32mc:\\Users\\Pongo\\AppData\\Local\\Programs\\Python\\Python312\\Lib\\site-packages\\sqlalchemy\\engine\\base.py:1776\u001b[39m, in \u001b[36mConnection.exec_driver_sql\u001b[39m\u001b[34m(self, statement, parameters, execution_options)\u001b[39m\n\u001b[32m   1771\u001b[39m execution_options = \u001b[38;5;28mself\u001b[39m._execution_options.merge_with(\n\u001b[32m   1772\u001b[39m     execution_options\n\u001b[32m   1773\u001b[39m )\n\u001b[32m   1775\u001b[39m dialect = \u001b[38;5;28mself\u001b[39m.dialect\n\u001b[32m-> \u001b[39m\u001b[32m1776\u001b[39m ret = \u001b[38;5;28;43mself\u001b[39;49m\u001b[43m.\u001b[49m\u001b[43m_execute_context\u001b[49m\u001b[43m(\u001b[49m\n\u001b[32m   1777\u001b[39m \u001b[43m    \u001b[49m\u001b[43mdialect\u001b[49m\u001b[43m,\u001b[49m\n\u001b[32m   1778\u001b[39m \u001b[43m    \u001b[49m\u001b[43mdialect\u001b[49m\u001b[43m.\u001b[49m\u001b[43mexecution_ctx_cls\u001b[49m\u001b[43m.\u001b[49m\u001b[43m_init_statement\u001b[49m\u001b[43m,\u001b[49m\n\u001b[32m   1779\u001b[39m \u001b[43m    \u001b[49m\u001b[43mstatement\u001b[49m\u001b[43m,\u001b[49m\n\u001b[32m   1780\u001b[39m \u001b[43m    \u001b[49m\u001b[38;5;28;43;01mNone\u001b[39;49;00m\u001b[43m,\u001b[49m\n\u001b[32m   1781\u001b[39m \u001b[43m    \u001b[49m\u001b[43mexecution_options\u001b[49m\u001b[43m,\u001b[49m\n\u001b[32m   1782\u001b[39m \u001b[43m    \u001b[49m\u001b[43mstatement\u001b[49m\u001b[43m,\u001b[49m\n\u001b[32m   1783\u001b[39m \u001b[43m    \u001b[49m\u001b[43mdistilled_parameters\u001b[49m\u001b[43m,\u001b[49m\n\u001b[32m   1784\u001b[39m \u001b[43m\u001b[49m\u001b[43m)\u001b[49m\n\u001b[32m   1786\u001b[39m \u001b[38;5;28;01mreturn\u001b[39;00m ret\n",
      "\u001b[36mFile \u001b[39m\u001b[32mc:\\Users\\Pongo\\AppData\\Local\\Programs\\Python\\Python312\\Lib\\site-packages\\sqlalchemy\\engine\\base.py:1843\u001b[39m, in \u001b[36mConnection._execute_context\u001b[39m\u001b[34m(self, dialect, constructor, statement, parameters, execution_options, *args, **kw)\u001b[39m\n\u001b[32m   1841\u001b[39m     \u001b[38;5;28;01mreturn\u001b[39;00m \u001b[38;5;28mself\u001b[39m._exec_insertmany_context(dialect, context)\n\u001b[32m   1842\u001b[39m \u001b[38;5;28;01melse\u001b[39;00m:\n\u001b[32m-> \u001b[39m\u001b[32m1843\u001b[39m     \u001b[38;5;28;01mreturn\u001b[39;00m \u001b[38;5;28;43mself\u001b[39;49m\u001b[43m.\u001b[49m\u001b[43m_exec_single_context\u001b[49m\u001b[43m(\u001b[49m\n\u001b[32m   1844\u001b[39m \u001b[43m        \u001b[49m\u001b[43mdialect\u001b[49m\u001b[43m,\u001b[49m\u001b[43m \u001b[49m\u001b[43mcontext\u001b[49m\u001b[43m,\u001b[49m\u001b[43m \u001b[49m\u001b[43mstatement\u001b[49m\u001b[43m,\u001b[49m\u001b[43m \u001b[49m\u001b[43mparameters\u001b[49m\n\u001b[32m   1845\u001b[39m \u001b[43m    \u001b[49m\u001b[43m)\u001b[49m\n",
      "\u001b[36mFile \u001b[39m\u001b[32mc:\\Users\\Pongo\\AppData\\Local\\Programs\\Python\\Python312\\Lib\\site-packages\\sqlalchemy\\engine\\base.py:1983\u001b[39m, in \u001b[36mConnection._exec_single_context\u001b[39m\u001b[34m(self, dialect, context, statement, parameters)\u001b[39m\n\u001b[32m   1980\u001b[39m     result = context._setup_result_proxy()\n\u001b[32m   1982\u001b[39m \u001b[38;5;28;01mexcept\u001b[39;00m \u001b[38;5;167;01mBaseException\u001b[39;00m \u001b[38;5;28;01mas\u001b[39;00m e:\n\u001b[32m-> \u001b[39m\u001b[32m1983\u001b[39m     \u001b[38;5;28;43mself\u001b[39;49m\u001b[43m.\u001b[49m\u001b[43m_handle_dbapi_exception\u001b[49m\u001b[43m(\u001b[49m\n\u001b[32m   1984\u001b[39m \u001b[43m        \u001b[49m\u001b[43me\u001b[49m\u001b[43m,\u001b[49m\u001b[43m \u001b[49m\u001b[43mstr_statement\u001b[49m\u001b[43m,\u001b[49m\u001b[43m \u001b[49m\u001b[43meffective_parameters\u001b[49m\u001b[43m,\u001b[49m\u001b[43m \u001b[49m\u001b[43mcursor\u001b[49m\u001b[43m,\u001b[49m\u001b[43m \u001b[49m\u001b[43mcontext\u001b[49m\n\u001b[32m   1985\u001b[39m \u001b[43m    \u001b[49m\u001b[43m)\u001b[49m\n\u001b[32m   1987\u001b[39m \u001b[38;5;28;01mreturn\u001b[39;00m result\n",
      "\u001b[36mFile \u001b[39m\u001b[32mc:\\Users\\Pongo\\AppData\\Local\\Programs\\Python\\Python312\\Lib\\site-packages\\sqlalchemy\\engine\\base.py:2352\u001b[39m, in \u001b[36mConnection._handle_dbapi_exception\u001b[39m\u001b[34m(self, e, statement, parameters, cursor, context, is_sub_exec)\u001b[39m\n\u001b[32m   2350\u001b[39m \u001b[38;5;28;01melif\u001b[39;00m should_wrap:\n\u001b[32m   2351\u001b[39m     \u001b[38;5;28;01massert\u001b[39;00m sqlalchemy_exception \u001b[38;5;129;01mis\u001b[39;00m \u001b[38;5;129;01mnot\u001b[39;00m \u001b[38;5;28;01mNone\u001b[39;00m\n\u001b[32m-> \u001b[39m\u001b[32m2352\u001b[39m     \u001b[38;5;28;01mraise\u001b[39;00m sqlalchemy_exception.with_traceback(exc_info[\u001b[32m2\u001b[39m]) \u001b[38;5;28;01mfrom\u001b[39;00m\u001b[38;5;250m \u001b[39m\u001b[34;01me\u001b[39;00m\n\u001b[32m   2353\u001b[39m \u001b[38;5;28;01melse\u001b[39;00m:\n\u001b[32m   2354\u001b[39m     \u001b[38;5;28;01massert\u001b[39;00m exc_info[\u001b[32m1\u001b[39m] \u001b[38;5;129;01mis\u001b[39;00m \u001b[38;5;129;01mnot\u001b[39;00m \u001b[38;5;28;01mNone\u001b[39;00m\n",
      "\u001b[36mFile \u001b[39m\u001b[32mc:\\Users\\Pongo\\AppData\\Local\\Programs\\Python\\Python312\\Lib\\site-packages\\sqlalchemy\\engine\\base.py:1964\u001b[39m, in \u001b[36mConnection._exec_single_context\u001b[39m\u001b[34m(self, dialect, context, statement, parameters)\u001b[39m\n\u001b[32m   1962\u001b[39m                 \u001b[38;5;28;01mbreak\u001b[39;00m\n\u001b[32m   1963\u001b[39m     \u001b[38;5;28;01mif\u001b[39;00m \u001b[38;5;129;01mnot\u001b[39;00m evt_handled:\n\u001b[32m-> \u001b[39m\u001b[32m1964\u001b[39m         \u001b[38;5;28;43mself\u001b[39;49m\u001b[43m.\u001b[49m\u001b[43mdialect\u001b[49m\u001b[43m.\u001b[49m\u001b[43mdo_execute\u001b[49m\u001b[43m(\u001b[49m\n\u001b[32m   1965\u001b[39m \u001b[43m            \u001b[49m\u001b[43mcursor\u001b[49m\u001b[43m,\u001b[49m\u001b[43m \u001b[49m\u001b[43mstr_statement\u001b[49m\u001b[43m,\u001b[49m\u001b[43m \u001b[49m\u001b[43meffective_parameters\u001b[49m\u001b[43m,\u001b[49m\u001b[43m \u001b[49m\u001b[43mcontext\u001b[49m\n\u001b[32m   1966\u001b[39m \u001b[43m        \u001b[49m\u001b[43m)\u001b[49m\n\u001b[32m   1968\u001b[39m \u001b[38;5;28;01mif\u001b[39;00m \u001b[38;5;28mself\u001b[39m._has_events \u001b[38;5;129;01mor\u001b[39;00m \u001b[38;5;28mself\u001b[39m.engine._has_events:\n\u001b[32m   1969\u001b[39m     \u001b[38;5;28mself\u001b[39m.dispatch.after_cursor_execute(\n\u001b[32m   1970\u001b[39m         \u001b[38;5;28mself\u001b[39m,\n\u001b[32m   1971\u001b[39m         cursor,\n\u001b[32m   (...)\u001b[39m\u001b[32m   1975\u001b[39m         context.executemany,\n\u001b[32m   1976\u001b[39m     )\n",
      "\u001b[36mFile \u001b[39m\u001b[32mc:\\Users\\Pongo\\AppData\\Local\\Programs\\Python\\Python312\\Lib\\site-packages\\sqlalchemy\\engine\\default.py:945\u001b[39m, in \u001b[36mDefaultDialect.do_execute\u001b[39m\u001b[34m(self, cursor, statement, parameters, context)\u001b[39m\n\u001b[32m    944\u001b[39m \u001b[38;5;28;01mdef\u001b[39;00m\u001b[38;5;250m \u001b[39m\u001b[34mdo_execute\u001b[39m(\u001b[38;5;28mself\u001b[39m, cursor, statement, parameters, context=\u001b[38;5;28;01mNone\u001b[39;00m):\n\u001b[32m--> \u001b[39m\u001b[32m945\u001b[39m     \u001b[43mcursor\u001b[49m\u001b[43m.\u001b[49m\u001b[43mexecute\u001b[49m\u001b[43m(\u001b[49m\u001b[43mstatement\u001b[49m\u001b[43m,\u001b[49m\u001b[43m \u001b[49m\u001b[43mparameters\u001b[49m\u001b[43m)\u001b[49m\n",
      "\u001b[31mProgrammingError\u001b[39m: (psycopg2.errors.UndefinedColumn) column fp.id_pelanggan does not exist\nLINE 6: JOIN \"Dim_Pelanggan\" p ON fp.id_pelanggan = p.id_pelanggan\n                                  ^\nHINT:  Perhaps you meant to reference the column \"p.id_pelanggan\".\n\n[SQL: \nSELECT\n    p.nama_lengkap,\n    SUM(fp.total_harga) AS total_belanja\nFROM \"Fakta_Penjualan\" fp\nJOIN \"Dim_Pelanggan\" p ON fp.id_pelanggan = p.id_pelanggan\nWHERE\n    p.status_sekarang = TRUE -- Penting: Hanya ambil pelanggan yang statusnya TRUE (aktif)\nGROUP BY\n    p.nama_lengkap\nORDER BY\n    total_belanja DESC\nLIMIT 10;\n]\n(Background on this error at: https://sqlalche.me/e/20/f405)"
     ]
    }
   ],
   "source": [
    "print(\"\\n\\n--- Memulai Analisis 3: Top 10 Pelanggan ---\")\n",
    "print(\"Menjalankan query analisis top 10 pelanggan dari adventureworks_st...\")\n",
    "\n",
    "query_top_cust = \"\"\"\n",
    "SELECT\n",
    "    p.nama_lengkap,\n",
    "    SUM(fp.total_harga) AS total_belanja\n",
    "FROM \"Fakta_Penjualan\" fp\n",
    "JOIN \"Dim_Pelanggan\" p ON fp.id_pelanggan = p.id_pelanggan\n",
    "WHERE\n",
    "    p.status_sekarang = TRUE -- Penting: Hanya ambil pelanggan yang statusnya TRUE (aktif)\n",
    "GROUP BY\n",
    "    p.nama_lengkap\n",
    "ORDER BY\n",
    "    total_belanja DESC\n",
    "LIMIT 10;\n",
    "\"\"\"\n",
    "df_top_cust = pd.read_sql_query(query_top_cust, engine_st)\n",
    "print(\"✅ Query top 10 pelanggan berhasil dieksekusi! Hasil analisis:\\n\")\n",
    "display(df_top_cust)"
   ]
  },
  {
   "cell_type": "markdown",
   "id": "6f4884b8",
   "metadata": {},
   "source": [
    "#### Analisis 4: Korelasi Sentimen vs Penjualan"
   ]
  },
  {
   "cell_type": "code",
   "execution_count": null,
   "id": "847fe784",
   "metadata": {},
   "outputs": [
    {
     "name": "stdout",
     "output_type": "stream",
     "text": [
      "--- Memulai Analisis Final: Korelasi Sentimen vs Penjualan ---\n",
      "✅ Query analisis gabungan berhasil dieksekusi! Ini hasilnya:\n"
     ]
    },
    {
     "data": {
      "text/html": [
       "<div>\n",
       "<style scoped>\n",
       "    .dataframe tbody tr th:only-of-type {\n",
       "        vertical-align: middle;\n",
       "    }\n",
       "\n",
       "    .dataframe tbody tr th {\n",
       "        vertical-align: top;\n",
       "    }\n",
       "\n",
       "    .dataframe thead th {\n",
       "        text-align: right;\n",
       "    }\n",
       "</style>\n",
       "<table border=\"1\" class=\"dataframe\">\n",
       "  <thead>\n",
       "    <tr style=\"text-align: right;\">\n",
       "      <th></th>\n",
       "      <th>nama_lengkap</th>\n",
       "      <th>polarity</th>\n",
       "      <th>total_belanja</th>\n",
       "      <th>isi_tweet</th>\n",
       "    </tr>\n",
       "  </thead>\n",
       "  <tbody>\n",
       "    <tr>\n",
       "      <th>0</th>\n",
       "      <td>Emma Martinez</td>\n",
       "      <td>0.500000</td>\n",
       "      <td>128.9700</td>\n",
       "      <td>🚴‍♂️ \"Baru beli sepeda dari AdventureWorks, sm...</td>\n",
       "    </tr>\n",
       "    <tr>\n",
       "      <th>1</th>\n",
       "      <td>Albert Suarez</td>\n",
       "      <td>0.214286</td>\n",
       "      <td>32.2800</td>\n",
       "      <td>\"AdventureWorks itu unik, mereka jual ke retai...</td>\n",
       "    </tr>\n",
       "    <tr>\n",
       "      <th>2</th>\n",
       "      <td>Jack Hayes</td>\n",
       "      <td>0.200000</td>\n",
       "      <td>85.4800</td>\n",
       "      <td>\"Customer service-nya AdventureWorks tuh yang ...</td>\n",
       "    </tr>\n",
       "    <tr>\n",
       "      <th>3</th>\n",
       "      <td>Morgan Phillips</td>\n",
       "      <td>0.000000</td>\n",
       "      <td>5976.3200</td>\n",
       "      <td>\"AdventureWorks emang jagonya sepeda gunung. T...</td>\n",
       "    </tr>\n",
       "    <tr>\n",
       "      <th>4</th>\n",
       "      <td>Mete Goktepe</td>\n",
       "      <td>0.000000</td>\n",
       "      <td>5362.5698</td>\n",
       "      <td>\"Quality kontrol mereka luar biasa. Udah beli ...</td>\n",
       "    </tr>\n",
       "    <tr>\n",
       "      <th>5</th>\n",
       "      <td>Dustin Lal</td>\n",
       "      <td>0.000000</td>\n",
       "      <td>4175.5300</td>\n",
       "      <td>\"Wish list 2025: AdventureWorks rilis sepeda l...</td>\n",
       "    </tr>\n",
       "    <tr>\n",
       "      <th>6</th>\n",
       "      <td>Alejandro Ma</td>\n",
       "      <td>0.000000</td>\n",
       "      <td>3310.4075</td>\n",
       "      <td>\\n\"AdventureWorks perlu banget kolaborasi sama...</td>\n",
       "    </tr>\n",
       "    <tr>\n",
       "      <th>7</th>\n",
       "      <td>Jeremiah Jones</td>\n",
       "      <td>0.000000</td>\n",
       "      <td>2332.2800</td>\n",
       "      <td>\"Kalau kalian ke store AdventureWorks, coba mi...</td>\n",
       "    </tr>\n",
       "    <tr>\n",
       "      <th>8</th>\n",
       "      <td>Jaclyn Yuan</td>\n",
       "      <td>0.000000</td>\n",
       "      <td>2199.8975</td>\n",
       "      <td>\"Respect buat AdventureWorks yang berani buka ...</td>\n",
       "    </tr>\n",
       "    <tr>\n",
       "      <th>9</th>\n",
       "      <td>Ethan Garcia</td>\n",
       "      <td>0.000000</td>\n",
       "      <td>1503.5782</td>\n",
       "      <td>\"Baru tahu ternyata AdventureWorks udah 20+ ta...</td>\n",
       "    </tr>\n",
       "    <tr>\n",
       "      <th>10</th>\n",
       "      <td>Toni Prasad</td>\n",
       "      <td>0.000000</td>\n",
       "      <td>777.3400</td>\n",
       "      <td>\"Cinta banget sama seri 'AdventureX'! Ringan, ...</td>\n",
       "    </tr>\n",
       "    <tr>\n",
       "      <th>11</th>\n",
       "      <td>Nancy Lopez</td>\n",
       "      <td>0.000000</td>\n",
       "      <td>562.9600</td>\n",
       "      <td>\"Pernah ke pabriknya AdventureWorks di tour vi...</td>\n",
       "    </tr>\n",
       "    <tr>\n",
       "      <th>12</th>\n",
       "      <td>Dylan Russell</td>\n",
       "      <td>0.000000</td>\n",
       "      <td>539.9900</td>\n",
       "      <td>\"Ada rumor kalau AdventureWorks mau ekspansi k...</td>\n",
       "    </tr>\n",
       "    <tr>\n",
       "      <th>13</th>\n",
       "      <td>Cindy Jordan</td>\n",
       "      <td>0.000000</td>\n",
       "      <td>237.1900</td>\n",
       "      <td>\"Produk bagus, harga oke, tapi sayang variasi ...</td>\n",
       "    </tr>\n",
       "    <tr>\n",
       "      <th>14</th>\n",
       "      <td>Cedric Tang</td>\n",
       "      <td>0.000000</td>\n",
       "      <td>92.9600</td>\n",
       "      <td>\"AdventureWorks paham banget sama komunitasnya...</td>\n",
       "    </tr>\n",
       "    <tr>\n",
       "      <th>15</th>\n",
       "      <td>Paige Alexander</td>\n",
       "      <td>0.000000</td>\n",
       "      <td>59.2500</td>\n",
       "      <td>\"AdventureWorks ini contoh nyata gimana digita...</td>\n",
       "    </tr>\n",
       "    <tr>\n",
       "      <th>16</th>\n",
       "      <td>Yolanda She</td>\n",
       "      <td>0.000000</td>\n",
       "      <td>26.5600</td>\n",
       "      <td>\"Kenapa sih warna-warna frame sepeda mereka ga...</td>\n",
       "    </tr>\n",
       "    <tr>\n",
       "      <th>17</th>\n",
       "      <td>Holly Subram</td>\n",
       "      <td>0.000000</td>\n",
       "      <td>21.4900</td>\n",
       "      <td>\"AdventureWorks salah satu yang pertama pakai ...</td>\n",
       "    </tr>\n",
       "    <tr>\n",
       "      <th>18</th>\n",
       "      <td>Sergio Martinez</td>\n",
       "      <td>0.000000</td>\n",
       "      <td>6.2800</td>\n",
       "      <td>\"Satu hal yang bikin gue balik lagi ke Adventu...</td>\n",
       "    </tr>\n",
       "    <tr>\n",
       "      <th>19</th>\n",
       "      <td>Emma Ward</td>\n",
       "      <td>-0.200000</td>\n",
       "      <td>59.9800</td>\n",
       "      <td>\"AdventureWorks udah mulai go green. Packaging...</td>\n",
       "    </tr>\n",
       "  </tbody>\n",
       "</table>\n",
       "</div>"
      ],
      "text/plain": [
       "       nama_lengkap  polarity  total_belanja  \\\n",
       "0     Emma Martinez  0.500000       128.9700   \n",
       "1     Albert Suarez  0.214286        32.2800   \n",
       "2        Jack Hayes  0.200000        85.4800   \n",
       "3   Morgan Phillips  0.000000      5976.3200   \n",
       "4      Mete Goktepe  0.000000      5362.5698   \n",
       "5        Dustin Lal  0.000000      4175.5300   \n",
       "6      Alejandro Ma  0.000000      3310.4075   \n",
       "7    Jeremiah Jones  0.000000      2332.2800   \n",
       "8       Jaclyn Yuan  0.000000      2199.8975   \n",
       "9      Ethan Garcia  0.000000      1503.5782   \n",
       "10      Toni Prasad  0.000000       777.3400   \n",
       "11      Nancy Lopez  0.000000       562.9600   \n",
       "12    Dylan Russell  0.000000       539.9900   \n",
       "13     Cindy Jordan  0.000000       237.1900   \n",
       "14      Cedric Tang  0.000000        92.9600   \n",
       "15  Paige Alexander  0.000000        59.2500   \n",
       "16      Yolanda She  0.000000        26.5600   \n",
       "17     Holly Subram  0.000000        21.4900   \n",
       "18  Sergio Martinez  0.000000         6.2800   \n",
       "19        Emma Ward -0.200000        59.9800   \n",
       "\n",
       "                                            isi_tweet  \n",
       "0   🚴‍♂️ \"Baru beli sepeda dari AdventureWorks, sm...  \n",
       "1   \"AdventureWorks itu unik, mereka jual ke retai...  \n",
       "2   \"Customer service-nya AdventureWorks tuh yang ...  \n",
       "3   \"AdventureWorks emang jagonya sepeda gunung. T...  \n",
       "4   \"Quality kontrol mereka luar biasa. Udah beli ...  \n",
       "5   \"Wish list 2025: AdventureWorks rilis sepeda l...  \n",
       "6   \\n\"AdventureWorks perlu banget kolaborasi sama...  \n",
       "7   \"Kalau kalian ke store AdventureWorks, coba mi...  \n",
       "8   \"Respect buat AdventureWorks yang berani buka ...  \n",
       "9   \"Baru tahu ternyata AdventureWorks udah 20+ ta...  \n",
       "10  \"Cinta banget sama seri 'AdventureX'! Ringan, ...  \n",
       "11  \"Pernah ke pabriknya AdventureWorks di tour vi...  \n",
       "12  \"Ada rumor kalau AdventureWorks mau ekspansi k...  \n",
       "13  \"Produk bagus, harga oke, tapi sayang variasi ...  \n",
       "14  \"AdventureWorks paham banget sama komunitasnya...  \n",
       "15  \"AdventureWorks ini contoh nyata gimana digita...  \n",
       "16  \"Kenapa sih warna-warna frame sepeda mereka ga...  \n",
       "17  \"AdventureWorks salah satu yang pertama pakai ...  \n",
       "18  \"Satu hal yang bikin gue balik lagi ke Adventu...  \n",
       "19  \"AdventureWorks udah mulai go green. Packaging...  "
      ]
     },
     "metadata": {},
     "output_type": "display_data"
    }
   ],
   "source": [
    "import pandas as pd\n",
    "from sqlalchemy import create_engine\n",
    "from datetime import datetime\n",
    "import os\n",
    "print(\"--- Memulai Analisis Final: Korelasi Sentimen vs Penjualan ---\")\n",
    "\n",
    "query_final = \"\"\"\n",
    "WITH\n",
    "    -- Langkah 1: Hitung total belanja untuk setiap pelanggan aktif\n",
    "    BelanjaPelanggan AS (\n",
    "        SELECT\n",
    "            p.id_pelanggan,\n",
    "            p.nama_lengkap,\n",
    "            SUM(fp.total_harga) AS total_belanja\n",
    "        FROM \"Fakta_Penjualan\" fp\n",
    "        JOIN \"Dim_Pelanggan\" p ON fp.id_pelanggan = p.id_pelanggan\n",
    "        WHERE p.status_sekarang = TRUE\n",
    "        GROUP BY p.id_pelanggan, p.nama_lengkap\n",
    "    ),\n",
    "    -- Langkah 2: Ambil data sentimen pelanggan dari tabel staging\n",
    "    SentimenPelanggan AS (\n",
    "        SELECT\n",
    "            id_pelanggan,\n",
    "            polarity,\n",
    "            isi_tweet\n",
    "        FROM stg_analisis_sentimen\n",
    "    )\n",
    "-- Langkah 3: Gabungkan keduanya!\n",
    "SELECT\n",
    "    bp.nama_lengkap,\n",
    "    sp.polarity,\n",
    "    bp.total_belanja,\n",
    "    sp.isi_tweet\n",
    "FROM SentimenPelanggan sp\n",
    "JOIN BelanjaPelanggan bp ON sp.id_pelanggan = bp.id_pelanggan\n",
    "ORDER BY\n",
    "    sp.polarity DESC, total_belanja DESC;\n",
    "\"\"\"\n",
    "\n",
    "try:\n",
    "    df_final_report = pd.read_sql_query(query_final, engine_st)\n",
    "    print(\"✅ Query analisis gabungan berhasil dieksekusi! Ini hasilnya:\")\n",
    "    display(df_final_report)\n",
    "except Exception as e:\n",
    "    print(f\"❌ GAGAL! Terjadi error saat menjalankan analisis: {e}\")"
   ]
  },
  {
   "cell_type": "markdown",
   "id": "9980748c",
   "metadata": {},
   "source": [
    "### Warehouse (Membangun Data Warehouse: `adventureworks_wh`) & Visualisasi"
   ]
  },
  {
   "cell_type": "markdown",
   "id": "def66528",
   "metadata": {},
   "source": [
    "#### Hasil Analisis 1: Penjualan per Kategori Produk"
   ]
  },
  {
   "cell_type": "markdown",
   "id": "99203646",
   "metadata": {},
   "source": [
    "Data `df_kategori` akan dimuat ke `adventureworks_wh` dan divisualisasikan sebagai Bar Chart"
   ]
  },
  {
   "cell_type": "code",
   "execution_count": 68,
   "id": "3bf4f508",
   "metadata": {},
   "outputs": [
    {
     "name": "stdout",
     "output_type": "stream",
     "text": [
      "\n",
      "\n",
      "--- Membangun Data Mart & Visualisasi untuk Penjualan per Kategori Produk ---\n",
      "Menambahkan timestamp laporan: 2025-06-23 19:15:25.189303\n",
      "Menambahkan data ringkasan baru ke tabel 'rpt_penjualan_per_kategori' di database 'adventureworks_wh'...\n",
      "✅ Tabel 'rpt_penjualan_per_kategori' berhasil ditambahkan 0 baris data baru.\n",
      "\n",
      "Membuat visualisasi (Bar Chart) dan menyimpannya ke folder 'output'...\n"
     ]
    },
    {
     "data": {
      "image/png": "[encoded data removed]",
      "text/plain": [
       "<Figure size 1200x700 with 1 Axes>"
      ]
     },
     "metadata": {},
     "output_type": "display_data"
    },
    {
     "name": "stdout",
     "output_type": "stream",
     "text": [
      "🎉 SUKSES! Grafik telah disimpan sebagai 'penjualan_per_kategori.png'.\n"
     ]
    }
   ],
   "source": [
    "print(\"\\n\\n--- Membangun Data Mart & Visualisasi untuk Penjualan per Kategori Produk ---\")\n",
    "\n",
    "# Transformasi: Tambahkan timestamp laporan\n",
    "waktu_laporan_dibuat = datetime.now()\n",
    "df_kategori['tgl_laporan'] = waktu_laporan_dibuat\n",
    "print(f\"Menambahkan timestamp laporan: {waktu_laporan_dibuat}\")\n",
    "\n",
    "# Load Hasil Analisis ke Data Mart (`adventureworks_wh`) - Mode Append\n",
    "target_table_name_kategori = 'rpt_penjualan_per_kategori'\n",
    "print(f\"Menambahkan data ringkasan baru ke tabel '{target_table_name_kategori}' di database '{db_name_wh}'...\")\n",
    "df_kategori.to_sql(target_table_name_kategori, engine_wh, if_exists='append', index=False)\n",
    "print(f\"✅ Tabel '{target_table_name_kategori}' berhasil ditambahkan {len(df_kategori)} baris data baru.\")\n",
    "\n",
    "# Visualisasi & Simpan Gambar\n",
    "print(\"\\nMembuat visualisasi (Bar Chart) dan menyimpannya ke folder 'output'...\")\n",
    "plt.figure(figsize=(12, 7))\n",
    "barplot = sns.barplot(x='total_penjualan', y='kategori', data=df_kategori, palette='magma')\n",
    "plt.title('Total Penjualan Berdasarkan Kategori Produk', fontsize=16, pad=20)\n",
    "plt.xlabel('Total Penjualan (dalam Juta)', fontsize=12)\n",
    "plt.ylabel('Kategori Produk', fontsize=12)\n",
    "barplot.xaxis.set_major_formatter(lambda x, pos: f'{x/1e6:.0f} Jt')\n",
    "plt.tight_layout() # Untuk memastikan semua label terlihat\n",
    "output_folder = 'output'\n",
    "os.makedirs(output_folder, exist_ok=True) # Buat folder kalau belum ada\n",
    "plt.savefig(os.path.join(output_folder, 'penjualan_per_kategori.png'), dpi=300, bbox_inches='tight')\n",
    "plt.show()\n",
    "print(f\"🎉 SUKSES! Grafik telah disimpan sebagai 'penjualan_per_kategori.png'.\")"
   ]
  },
  {
   "cell_type": "markdown",
   "id": "0f2505b6",
   "metadata": {},
   "source": [
    "#### Hasil Analisis 2: Tren Penjualan Bulanan"
   ]
  },
  {
   "cell_type": "markdown",
   "id": "c812875a",
   "metadata": {},
   "source": [
    "Data `df_tren` akan dimuat ke `adventureworks_wh` dan divisualisasikan sebagai Line Chart"
   ]
  },
  {
   "cell_type": "code",
   "execution_count": 69,
   "id": "083a2ff2",
   "metadata": {},
   "outputs": [
    {
     "name": "stdout",
     "output_type": "stream",
     "text": [
      "\n",
      "\n",
      "--- Membangun Data Mart & Visualisasi untuk Tren Penjualan Bulanan ---\n",
      "Menambahkan timestamp laporan: 2025-06-23 19:15:25.878867\n",
      "Menambahkan data ringkasan baru ke tabel 'rpt_tren_penjualan_bulanan' di database 'adventureworks_wh'...\n",
      "✅ Tabel ringkasan 'rpt_tren_penjualan_bulanan' berhasil ditambahkan data baru.\n",
      "\n",
      "Membuat visualisasi (Line Chart) dan menyimpannya ke folder 'output'...\n"
     ]
    },
    {
     "data": {
      "image/png": "[encoded data removed]",
      "text/plain": [
       "<Figure size 1500x700 with 1 Axes>"
      ]
     },
     "metadata": {},
     "output_type": "display_data"
    },
    {
     "name": "stdout",
     "output_type": "stream",
     "text": [
      "🎉 SUKSES! Grafik telah disimpan sebagai 'tren_penjualan_bulanan.png'.\n"
     ]
    }
   ],
   "source": [
    "print(\"\\n\\n--- Membangun Data Mart & Visualisasi untuk Tren Penjualan Bulanan ---\")\n",
    "\n",
    "# Transformasi: Tambahkan timestamp laporan\n",
    "waktu_laporan_dibuat = datetime.now()\n",
    "df_tren['tgl_laporan'] = waktu_laporan_dibuat\n",
    "print(f\"Menambahkan timestamp laporan: {waktu_laporan_dibuat}\")\n",
    "\n",
    "# Load Hasil Analisis ke Data Mart (`adventureworks_wh`)\n",
    "target_table_name_tren = 'rpt_tren_penjualan_bulanan'\n",
    "print(f\"Menambahkan data ringkasan baru ke tabel '{target_table_name_tren}' di database '{db_name_wh}'...\")\n",
    "df_tren.to_sql(target_table_name_tren, engine_wh, if_exists='append', index=False)\n",
    "print(f\"✅ Tabel ringkasan '{target_table_name_tren}' berhasil ditambahkan data baru.\")\n",
    "\n",
    "# Visualisasi & Simpan Gambar\n",
    "print(\"\\nMembuat visualisasi (Line Chart) dan menyimpannya ke folder 'output'...\")\n",
    "plt.figure(figsize=(15, 7))\n",
    "lineplot = sns.lineplot(x='periode', y='total_penjualan', data=df_tren, marker='o', color='royalblue')\n",
    "plt.title('Tren Total Penjualan per Bulan', fontsize=18, pad=20)\n",
    "plt.xlabel('Periode (Bulan)', fontsize=12)\n",
    "plt.ylabel('Total Penjualan (dalam Juta)', fontsize=12)\n",
    "plt.xticks(rotation=45)\n",
    "lineplot.yaxis.set_major_formatter(lambda x, pos: f'{x/1e6:.1f} Jt')\n",
    "plt.tight_layout()\n",
    "plt.savefig(os.path.join(output_folder, 'tren_penjualan_bulanan.png'), dpi=300, bbox_inches='tight')\n",
    "plt.show()\n",
    "print(f\"🎉 SUKSES! Grafik telah disimpan sebagai 'tren_penjualan_bulanan.png'.\")"
   ]
  },
  {
   "cell_type": "markdown",
   "id": "9e52d244",
   "metadata": {},
   "source": [
    "#### Hasil Analisis 3: Top 10 Pelanggan dengan Total Belanja Terbanyak"
   ]
  },
  {
   "cell_type": "markdown",
   "id": "d8559a9b",
   "metadata": {},
   "source": [
    "Data `df_top_cust` akan dimuat ke `adventureworks_wh` dan divisualisasikan sebagai Horizontal Bar Chart"
   ]
  },
  {
   "cell_type": "code",
   "execution_count": 70,
   "id": "19106518",
   "metadata": {},
   "outputs": [
    {
     "name": "stdout",
     "output_type": "stream",
     "text": [
      "\n",
      "\n",
      "--- Membangun Data Mart & Visualisasi untuk Top 10 Pelanggan ---\n"
     ]
    },
    {
     "ename": "NameError",
     "evalue": "name 'df_top_cust' is not defined",
     "output_type": "error",
     "traceback": [
      "\u001b[31m---------------------------------------------------------------------------\u001b[39m",
      "\u001b[31mNameError\u001b[39m                                 Traceback (most recent call last)",
      "\u001b[36mCell\u001b[39m\u001b[36m \u001b[39m\u001b[32mIn[70]\u001b[39m\u001b[32m, line 4\u001b[39m\n\u001b[32m      1\u001b[39m \u001b[38;5;28mprint\u001b[39m(\u001b[33m\"\u001b[39m\u001b[38;5;130;01m\\n\u001b[39;00m\u001b[38;5;130;01m\\n\u001b[39;00m\u001b[33m--- Membangun Data Mart & Visualisasi untuk Top 10 Pelanggan ---\u001b[39m\u001b[33m\"\u001b[39m)\n\u001b[32m      3\u001b[39m \u001b[38;5;66;03m# Transformasi: Tambahkan timestamp laporan\u001b[39;00m\n\u001b[32m----> \u001b[39m\u001b[32m4\u001b[39m \u001b[43mdf_top_cust\u001b[49m[\u001b[33m'\u001b[39m\u001b[33mtgl_laporan\u001b[39m\u001b[33m'\u001b[39m] = datetime.now()\n\u001b[32m      5\u001b[39m \u001b[38;5;28mprint\u001b[39m(\u001b[33mf\u001b[39m\u001b[33m\"\u001b[39m\u001b[33mMenambahkan timestamp laporan: \u001b[39m\u001b[38;5;132;01m{\u001b[39;00mwaktu_laporan_dibuat\u001b[38;5;132;01m}\u001b[39;00m\u001b[33m\"\u001b[39m)\n\u001b[32m      7\u001b[39m \u001b[38;5;66;03m# Load Hasil Analisis ke Data Mart (`adventureworks_wh`)\u001b[39;00m\n",
      "\u001b[31mNameError\u001b[39m: name 'df_top_cust' is not defined"
     ]
    }
   ],
   "source": [
    "print(\"\\n\\n--- Membangun Data Mart & Visualisasi untuk Top 10 Pelanggan ---\")\n",
    "\n",
    "# Transformasi: Tambahkan timestamp laporan\n",
    "df_top_cust['tgl_laporan'] = datetime.now()\n",
    "print(f\"Menambahkan timestamp laporan: {waktu_laporan_dibuat}\")\n",
    "\n",
    "# Load Hasil Analisis ke Data Mart (`adventureworks_wh`)\n",
    "target_table_name_top_cust = 'rpt_top_10_pelanggan'\n",
    "print(f\"Menyimpan hasil ringkasan ke tabel '{target_table_name_top_cust}' di database '{db_name_wh}'...\")\n",
    "df_top_cust.to_sql(target_table_name_top_cust, engine_wh, if_exists='append', index=False)\n",
    "print(f\"✅ Tabel ringkasan '{target_table_name_top_cust}' berhasil ditambahkan data baru.\")\n",
    "\n",
    "# Visualisasi & Simpan Gambar\n",
    "print(\"\\nMembuat visualisasi (Horizontal Bar Chart) dan menyimpannya ke folder 'output'...\")\n",
    "plt.figure(figsize=(12, 8)) # Buat figur sedikit lebih tinggi\n",
    "barplot = sns.barplot(\n",
    "    x='total_belanja',\n",
    "    y='nama_lengkap',\n",
    "    data=df_top_cust,\n",
    "    palette='viridis'\n",
    ")\n",
    "plt.title('Top 10 Pelanggan dengan Total Belanja Terbanyak', fontsize=18, pad=20)\n",
    "plt.xlabel('Total Belanja (dalam Ribu)', fontsize=12)\n",
    "plt.ylabel('Nama Pelanggan', fontsize=12)\n",
    "barplot.xaxis.set_major_formatter(lambda x, pos: f'{(x/1e3):.0f} Rb')\n",
    "plt.tight_layout()\n",
    "plt.savefig(os.path.join(output_folder, 'top_10_pelanggan.png'), dpi=300, bbox_inches='tight')\n",
    "plt.show()\n",
    "print(f\"🎉 SUKSES! Grafik telah disimpan sebagai 'top_10_pelanggan.png'.\")"
   ]
  },
  {
   "cell_type": "markdown",
   "id": "b904f3df",
   "metadata": {},
   "source": [
    "#### Hasil Analisis 4: Menyimpan laporan dalam warehouse"
   ]
  },
  {
   "cell_type": "code",
   "execution_count": null,
   "id": "d19c0b8f",
   "metadata": {},
   "outputs": [
    {
     "name": "stdout",
     "output_type": "stream",
     "text": [
      "\n",
      "Menyimpan laporan final ke tabel 'rpt_sentimen_vs_penjualan'...\n",
      "✅ Laporan final berhasil disimpan di Data Mart ('rpt_sentimen_vs_penjualan')!\n"
     ]
    }
   ],
   "source": [
    "if 'df_final_report' in locals():\n",
    "    # Transformasi: Tambahkan timestamp laporan\n",
    "    df_final_report['tgl_laporan'] = datetime.now()\n",
    "    \n",
    "    # Load Hasil Analisis ke Data Mart (_wh)\n",
    "    target_table_name = 'rpt_sentimen_vs_penjualan'\n",
    "    print(f\"\\nMenyimpan laporan final ke tabel '{target_table_name}'...\")\n",
    "    df_final_report.to_sql(target_table_name, engine_wh, if_exists='append', index=False)\n",
    "    print(f\"✅ Laporan final berhasil disimpan di Data Mart ('{target_table_name}')!\")\n",
    "else:\n",
    "    print(\"⚠️ DataFrame 'df_final_report' tidak ditemukan. Jalankan sel analisis terlebih dahulu.\")"
   ]
  }
 ],
 "metadata": {
  "kernelspec": {
   "display_name": "Python 3",
   "language": "python",
   "name": "python3"
  },
  "language_info": {
   "codemirror_mode": {
    "name": "ipython",
    "version": 3
   },
   "file_extension": ".py",
   "mimetype": "text/x-python",
   "name": "python",
   "nbconvert_exporter": "python",
   "pygments_lexer": "ipython3",
   "version": "3.12.4"
  }
 },
 "nbformat": 4,
 "nbformat_minor": 5
}
